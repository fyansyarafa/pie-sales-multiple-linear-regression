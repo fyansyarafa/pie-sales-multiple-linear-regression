{
  "nbformat": 4,
  "nbformat_minor": 0,
  "metadata": {
    "colab": {
      "name": "Pie Sales Linear Regression.ipynb",
      "provenance": [],
      "toc_visible": true,
      "mount_file_id": "1e8Ru_zhQnsA3fnZMfQ5TwCGSUkqGz5-z",
      "authorship_tag": "ABX9TyO1pqVHY662MSEdHSWZe5MO",
      "include_colab_link": true
    },
    "kernelspec": {
      "name": "python3",
      "display_name": "Python 3"
    }
  },
  "cells": [
    {
      "cell_type": "markdown",
      "metadata": {
        "id": "view-in-github",
        "colab_type": "text"
      },
      "source": [
        "<a href=\"https://colab.research.google.com/github/fyansyarafa/pie-sales-multiple-linear-regression/blob/main/Pie_Sales_Linear_Regression.ipynb\" target=\"_parent\"><img src=\"https://colab.research.google.com/assets/colab-badge.svg\" alt=\"Open In Colab\"/></a>"
      ]
    },
    {
      "cell_type": "markdown",
      "metadata": {
        "id": "TpT-FJFh0OYG"
      },
      "source": [
        "# Tujuan \n",
        "\n",
        "Ditujukan untuk menghasilkan model prediktif (*multiple linear regression*) untuk melakukan prediksi terhadap penjualan pie (`pie_sales`) berdasarkan fitur *independet* (`week`, `price`, `advertising`)."
      ]
    },
    {
      "cell_type": "markdown",
      "metadata": {
        "id": "1g9xyToBt5h5"
      },
      "source": [
        "# Import Library & Data "
      ]
    },
    {
      "cell_type": "markdown",
      "metadata": {
        "id": "rSMcgArAwedE"
      },
      "source": [
        "## Libraries\n",
        "\n",
        "\n",
        "LIbrary yang akan digunakan\n",
        "*   Pandas\n",
        "*   Numpy\n",
        "* matplotlib.pyplot\n",
        "* seaborn\n",
        "* plotly express\n",
        "* plotly graph object\n",
        "* statsmodels.api \n",
        "* sklearn linear model\n",
        "\n",
        "\n"
      ]
    },
    {
      "cell_type": "code",
      "metadata": {
        "id": "5RNE-wnHwNcX"
      },
      "source": [
        "import pandas as pd\n",
        "import numpy as np \n",
        "import matplotlib.pyplot as plt\n",
        "import seaborn as sns\n",
        "import plotly.express as px\n",
        "import plotly.graph_objects as go\n",
        "import statsmodels.api as sm\n",
        "from sklearn.linear_model import LinearRegression\n",
        "\n"
      ],
      "execution_count": 41,
      "outputs": []
    },
    {
      "cell_type": "markdown",
      "metadata": {
        "id": "uexWikwExZ98"
      },
      "source": [
        "## Data "
      ]
    },
    {
      "cell_type": "code",
      "metadata": {
        "id": "-uUPq2Okxc_y",
        "outputId": "de9b27aa-c119-4b11-9851-8b3c40f68073",
        "colab": {
          "base_uri": "https://localhost:8080/",
          "height": 202
        }
      },
      "source": [
        "df = pd.read_csv('https://raw.githubusercontent.com/rc-dbe/dti/main/data/pie-sales.csv', sep =\";\")\n",
        "df.head()"
      ],
      "execution_count": 2,
      "outputs": [
        {
          "output_type": "execute_result",
          "data": {
            "text/html": [
              "<div>\n",
              "<style scoped>\n",
              "    .dataframe tbody tr th:only-of-type {\n",
              "        vertical-align: middle;\n",
              "    }\n",
              "\n",
              "    .dataframe tbody tr th {\n",
              "        vertical-align: top;\n",
              "    }\n",
              "\n",
              "    .dataframe thead th {\n",
              "        text-align: right;\n",
              "    }\n",
              "</style>\n",
              "<table border=\"1\" class=\"dataframe\">\n",
              "  <thead>\n",
              "    <tr style=\"text-align: right;\">\n",
              "      <th></th>\n",
              "      <th>week</th>\n",
              "      <th>pie_sales</th>\n",
              "      <th>price</th>\n",
              "      <th>advertising</th>\n",
              "    </tr>\n",
              "  </thead>\n",
              "  <tbody>\n",
              "    <tr>\n",
              "      <th>0</th>\n",
              "      <td>1</td>\n",
              "      <td>350</td>\n",
              "      <td>5.5</td>\n",
              "      <td>3.3</td>\n",
              "    </tr>\n",
              "    <tr>\n",
              "      <th>1</th>\n",
              "      <td>2</td>\n",
              "      <td>460</td>\n",
              "      <td>7.5</td>\n",
              "      <td>3.3</td>\n",
              "    </tr>\n",
              "    <tr>\n",
              "      <th>2</th>\n",
              "      <td>3</td>\n",
              "      <td>350</td>\n",
              "      <td>8.0</td>\n",
              "      <td>3.0</td>\n",
              "    </tr>\n",
              "    <tr>\n",
              "      <th>3</th>\n",
              "      <td>4</td>\n",
              "      <td>430</td>\n",
              "      <td>8.0</td>\n",
              "      <td>4.5</td>\n",
              "    </tr>\n",
              "    <tr>\n",
              "      <th>4</th>\n",
              "      <td>5</td>\n",
              "      <td>350</td>\n",
              "      <td>6.8</td>\n",
              "      <td>3.0</td>\n",
              "    </tr>\n",
              "  </tbody>\n",
              "</table>\n",
              "</div>"
            ],
            "text/plain": [
              "   week  pie_sales  price  advertising\n",
              "0     1        350    5.5          3.3\n",
              "1     2        460    7.5          3.3\n",
              "2     3        350    8.0          3.0\n",
              "3     4        430    8.0          4.5\n",
              "4     5        350    6.8          3.0"
            ]
          },
          "metadata": {
            "tags": []
          },
          "execution_count": 2
        }
      ]
    },
    {
      "cell_type": "markdown",
      "metadata": {
        "id": "LqWHvGg0x4LS"
      },
      "source": [
        "Melihat informasi yang ada pada dataset, seperti jumlah *entry*/baris, jumlah kolom, tipe data setiap kolom, serta *memory*:"
      ]
    },
    {
      "cell_type": "code",
      "metadata": {
        "id": "JlaJxRpNx90L",
        "outputId": "74c773a3-c4e1-49a3-d581-5fd1028780da",
        "colab": {
          "base_uri": "https://localhost:8080/",
          "height": 208
        }
      },
      "source": [
        "df.info()"
      ],
      "execution_count": 3,
      "outputs": [
        {
          "output_type": "stream",
          "text": [
            "<class 'pandas.core.frame.DataFrame'>\n",
            "RangeIndex: 15 entries, 0 to 14\n",
            "Data columns (total 4 columns):\n",
            " #   Column       Non-Null Count  Dtype  \n",
            "---  ------       --------------  -----  \n",
            " 0   week         15 non-null     int64  \n",
            " 1   pie_sales    15 non-null     int64  \n",
            " 2   price        15 non-null     float64\n",
            " 3   advertising  15 non-null     float64\n",
            "dtypes: float64(2), int64(2)\n",
            "memory usage: 608.0 bytes\n"
          ],
          "name": "stdout"
        }
      ]
    },
    {
      "cell_type": "markdown",
      "metadata": {
        "id": "NDz8av67yN8O"
      },
      "source": [
        "Semua kolom/fitur bertipe numerik, yang berarti dapat langsung digunakan dalam pembuatan model regresi linear. Juga tidak ada *missing values* pada dataset. "
      ]
    },
    {
      "cell_type": "markdown",
      "metadata": {
        "id": "EG9CSQkrydEP"
      },
      "source": [
        "Melihat deskripsi statistik numerik pada data:"
      ]
    },
    {
      "cell_type": "code",
      "metadata": {
        "id": "Y8r3j3BRyhyU",
        "outputId": "4c8bf64a-bab7-4885-a104-bf50bc6b6552",
        "colab": {
          "base_uri": "https://localhost:8080/",
          "height": 171
        }
      },
      "source": [
        "df.describe().transpose()"
      ],
      "execution_count": 4,
      "outputs": [
        {
          "output_type": "execute_result",
          "data": {
            "text/html": [
              "<div>\n",
              "<style scoped>\n",
              "    .dataframe tbody tr th:only-of-type {\n",
              "        vertical-align: middle;\n",
              "    }\n",
              "\n",
              "    .dataframe tbody tr th {\n",
              "        vertical-align: top;\n",
              "    }\n",
              "\n",
              "    .dataframe thead th {\n",
              "        text-align: right;\n",
              "    }\n",
              "</style>\n",
              "<table border=\"1\" class=\"dataframe\">\n",
              "  <thead>\n",
              "    <tr style=\"text-align: right;\">\n",
              "      <th></th>\n",
              "      <th>count</th>\n",
              "      <th>mean</th>\n",
              "      <th>std</th>\n",
              "      <th>min</th>\n",
              "      <th>25%</th>\n",
              "      <th>50%</th>\n",
              "      <th>75%</th>\n",
              "      <th>max</th>\n",
              "    </tr>\n",
              "  </thead>\n",
              "  <tbody>\n",
              "    <tr>\n",
              "      <th>week</th>\n",
              "      <td>15.0</td>\n",
              "      <td>8.000000</td>\n",
              "      <td>4.472136</td>\n",
              "      <td>1.0</td>\n",
              "      <td>4.5</td>\n",
              "      <td>8.0</td>\n",
              "      <td>11.50</td>\n",
              "      <td>15.0</td>\n",
              "    </tr>\n",
              "    <tr>\n",
              "      <th>pie_sales</th>\n",
              "      <td>15.0</td>\n",
              "      <td>399.333333</td>\n",
              "      <td>63.523524</td>\n",
              "      <td>300.0</td>\n",
              "      <td>350.0</td>\n",
              "      <td>430.0</td>\n",
              "      <td>450.00</td>\n",
              "      <td>490.0</td>\n",
              "    </tr>\n",
              "    <tr>\n",
              "      <th>price</th>\n",
              "      <td>15.0</td>\n",
              "      <td>6.613333</td>\n",
              "      <td>1.171609</td>\n",
              "      <td>4.5</td>\n",
              "      <td>5.7</td>\n",
              "      <td>7.0</td>\n",
              "      <td>7.50</td>\n",
              "      <td>8.0</td>\n",
              "    </tr>\n",
              "    <tr>\n",
              "      <th>advertising</th>\n",
              "      <td>15.0</td>\n",
              "      <td>3.480000</td>\n",
              "      <td>0.488730</td>\n",
              "      <td>2.7</td>\n",
              "      <td>3.1</td>\n",
              "      <td>3.5</td>\n",
              "      <td>3.85</td>\n",
              "      <td>4.5</td>\n",
              "    </tr>\n",
              "  </tbody>\n",
              "</table>\n",
              "</div>"
            ],
            "text/plain": [
              "             count        mean        std    min    25%    50%     75%    max\n",
              "week          15.0    8.000000   4.472136    1.0    4.5    8.0   11.50   15.0\n",
              "pie_sales     15.0  399.333333  63.523524  300.0  350.0  430.0  450.00  490.0\n",
              "price         15.0    6.613333   1.171609    4.5    5.7    7.0    7.50    8.0\n",
              "advertising   15.0    3.480000   0.488730    2.7    3.1    3.5    3.85    4.5"
            ]
          },
          "metadata": {
            "tags": []
          },
          "execution_count": 4
        }
      ]
    },
    {
      "cell_type": "markdown",
      "metadata": {
        "id": "R_0r-evsvOrL"
      },
      "source": [
        "# Exploratory Data Analysis"
      ]
    },
    {
      "cell_type": "markdown",
      "metadata": {
        "id": "7Yo9zvwqyveh"
      },
      "source": [
        "Pada *section* ini, akan dilakukan visualisasi terhadap data sehingga dapat di-*extract* beberapa *insight* secara deskriptif dari data."
      ]
    },
    {
      "cell_type": "markdown",
      "metadata": {
        "id": "_tm6rUnH40rD"
      },
      "source": [
        "## Distribusi Fitur"
      ]
    },
    {
      "cell_type": "code",
      "metadata": {
        "id": "IHdYhcbX0Kme",
        "outputId": "4e5df146-ca2e-45ab-b470-95d6db5c54df",
        "colab": {
          "base_uri": "https://localhost:8080/",
          "height": 35
        }
      },
      "source": [
        "df.columns"
      ],
      "execution_count": 5,
      "outputs": [
        {
          "output_type": "execute_result",
          "data": {
            "text/plain": [
              "Index(['week', 'pie_sales', 'price', 'advertising'], dtype='object')"
            ]
          },
          "metadata": {
            "tags": []
          },
          "execution_count": 5
        }
      ]
    },
    {
      "cell_type": "code",
      "metadata": {
        "id": "kqNzhfs3zSe7",
        "outputId": "ccad8195-6a19-40d4-f962-fc6f4f859dd6",
        "colab": {
          "base_uri": "https://localhost:8080/",
          "height": 667
        }
      },
      "source": [
        "plt.figure(figsize=(15,5))\n",
        "for i in range(len(df.columns)):\n",
        "  plt.subplot(2, 2, i+1)\n",
        "  sns.distplot(df[df.columns[i]])\n",
        "  plt.title(df.columns[i])\n",
        "  plt.axvline(df[df.columns[i]].mean(), label='Mean = {}'.format(round(df[df.columns[i]].mean(),3)), color='g')\n",
        "  plt.axvline(df[df.columns[i]].median(), label='Median = {}'.format(round(df[df.columns[i]].median(),3)), color='y')\n",
        "  plt.legend(bbox_to_anchor=(1.1, 1.05))\n",
        "  \n",
        "plt.tight_layout();"
      ],
      "execution_count": 20,
      "outputs": [
        {
          "output_type": "stream",
          "text": [
            "/usr/local/lib/python3.6/dist-packages/seaborn/distributions.py:2551: FutureWarning:\n",
            "\n",
            "`distplot` is a deprecated function and will be removed in a future version. Please adapt your code to use either `displot` (a figure-level function with similar flexibility) or `histplot` (an axes-level function for histograms).\n",
            "\n",
            "/usr/local/lib/python3.6/dist-packages/seaborn/distributions.py:2551: FutureWarning:\n",
            "\n",
            "`distplot` is a deprecated function and will be removed in a future version. Please adapt your code to use either `displot` (a figure-level function with similar flexibility) or `histplot` (an axes-level function for histograms).\n",
            "\n",
            "/usr/local/lib/python3.6/dist-packages/seaborn/distributions.py:2551: FutureWarning:\n",
            "\n",
            "`distplot` is a deprecated function and will be removed in a future version. Please adapt your code to use either `displot` (a figure-level function with similar flexibility) or `histplot` (an axes-level function for histograms).\n",
            "\n",
            "/usr/local/lib/python3.6/dist-packages/seaborn/distributions.py:2551: FutureWarning:\n",
            "\n",
            "`distplot` is a deprecated function and will be removed in a future version. Please adapt your code to use either `displot` (a figure-level function with similar flexibility) or `histplot` (an axes-level function for histograms).\n",
            "\n"
          ],
          "name": "stderr"
        },
        {
          "output_type": "display_data",
          "data": {
            "image/png": "[encoded data removed]",
            "text/plain": [
              "<Figure size 1080x360 with 4 Axes>"
            ]
          },
          "metadata": {
            "tags": [],
            "needs_background": "light"
          }
        }
      ]
    },
    {
      "cell_type": "markdown",
      "metadata": {
        "id": "qRdtj3K8VBEO"
      },
      "source": [
        "Penjelasan:\n",
        "\n",
        "*   Week: Pelanggan banyak melakukan pembelian pie di minggu ke-8\n",
        "*   Pie sales: Terdapat dua grup besar dalam distribusi pie_sales. Grup pertama, dengan rentang 300 sampai sekitar 380 pada jumlah penjualan dan rentang 420 sampai 490. Secara rata-rata, penjualan pie berada pada angka 430.\n",
        "* Price: Untuk price, lebih variatif dengan rata-rata di harga 7 dollar\n",
        "* Advertising: Pengeluaran untuk promosi banyak berada pada angka 3.48 dollar. Lebih rendah daripada rata-rata harga satu buah pie.\n",
        "\n"
      ]
    },
    {
      "cell_type": "markdown",
      "metadata": {
        "id": "IINQ4c9bzfmp"
      },
      "source": [
        "Melihat hubungan dari masing-masing fitur yang berisi variabel variabel independen terhadap variabel dependen. Apakah memiliki relasi yang linear atau tidak?"
      ]
    },
    {
      "cell_type": "code",
      "metadata": {
        "id": "N4AikTyX4kMl"
      },
      "source": [
        "week_piesales = px.scatter(\n",
        "    df,\n",
        "    x = 'week', y = 'pie_sales',\n",
        "    trendline='ols', trendline_color_override='darkblue',\n",
        "    template = 'seaborn',\n",
        "    title = 'Regression fit: Week vs Pie sales'\n",
        ")\n",
        "\n",
        "price_piesales = px.scatter(\n",
        "    df,\n",
        "    x = 'price', y = 'pie_sales',\n",
        "    trendline='ols', trendline_color_override='darkblue',\n",
        "    template = 'seaborn',\n",
        "    title = 'Regression fit: Price vs Pie sales'\n",
        ")\n",
        "\n",
        "advertising_piesales = px.scatter(\n",
        "    df,\n",
        "    x = 'advertising', y = 'pie_sales',\n",
        "    trendline='ols', trendline_color_override='darkblue',\n",
        "    template= 'seaborn',\n",
        "    title = 'Regression fit: Advertising vs Pie sales'\n",
        ")"
      ],
      "execution_count": 134,
      "outputs": []
    },
    {
      "cell_type": "markdown",
      "metadata": {
        "id": "FNRJiWuK7gPo"
      },
      "source": [
        "## Week - Pie Sales"
      ]
    },
    {
      "cell_type": "code",
      "metadata": {
        "id": "dcvCLRi8Fwj_",
        "outputId": "b0c3b50e-aedc-40d4-ccea-08f321a01ad2",
        "colab": {
          "base_uri": "https://localhost:8080/",
          "height": 542
        }
      },
      "source": [
        "week_piesales_line = go.Figure()\n",
        "week_piesales_line.add_trace(go.Scatter(x=df['week'], y=df['pie_sales'],\n",
        "                    mode='lines+markers'))\n",
        "week_piesales_line.update_layout(title='Total pie terjual per minggu',\n",
        "                   xaxis_title='Week',\n",
        "                   yaxis_title='Pie Sales')\n",
        "\n",
        "week_piesales_line.show()"
      ],
      "execution_count": 139,
      "outputs": [
        {
          "output_type": "display_data",
          "data": {
            "text/html": [
              "<html>\n",
              "<head><meta charset=\"utf-8\" /></head>\n",
              "<body>\n",
              "    <div>\n",
              "            <script src=\"https://cdnjs.cloudflare.com/ajax/libs/mathjax/2.7.5/MathJax.js?config=TeX-AMS-MML_SVG\"></script><script type=\"text/javascript\">if (window.MathJax) {MathJax.Hub.Config({SVG: {font: \"STIX-Web\"}});}</script>\n",
              "                <script type=\"text/javascript\">window.PlotlyConfig = {MathJaxConfig: 'local'};</script>\n",
              "        <script src=\"https://cdn.plot.ly/plotly-latest.min.js\"></script>    \n",
              "            <div id=\"147c347e-10ec-4f13-9a9c-8d720980c981\" class=\"plotly-graph-div\" style=\"height:525px; width:100%;\"></div>\n",
              "            <script type=\"text/javascript\">\n",
              "                \n",
              "                    window.PLOTLYENV=window.PLOTLYENV || {};\n",
              "                    \n",
              "                if (document.getElementById(\"147c347e-10ec-4f13-9a9c-8d720980c981\")) {\n",
              "                    Plotly.newPlot(\n",
              "                        '147c347e-10ec-4f13-9a9c-8d720980c981',\n",
              "                        [{\"mode\": \"lines+markers\", \"type\": \"scatter\", \"x\": [1, 2, 3, 4, 5, 6, 7, 8, 9, 10, 11, 12, 13, 14, 15], \"y\": [350, 460, 350, 430, 350, 380, 430, 470, 450, 490, 340, 300, 440, 450, 300]}],\n",
              "                        {\"template\": {\"data\": {\"bar\": [{\"error_x\": {\"color\": \"#2a3f5f\"}, \"error_y\": {\"color\": \"#2a3f5f\"}, \"marker\": {\"line\": {\"color\": \"#E5ECF6\", \"width\": 0.5}}, \"type\": \"bar\"}], \"barpolar\": [{\"marker\": {\"line\": {\"color\": \"#E5ECF6\", \"width\": 0.5}}, \"type\": \"barpolar\"}], \"carpet\": [{\"aaxis\": {\"endlinecolor\": \"#2a3f5f\", \"gridcolor\": \"white\", \"linecolor\": \"white\", \"minorgridcolor\": \"white\", \"startlinecolor\": \"#2a3f5f\"}, \"baxis\": {\"endlinecolor\": \"#2a3f5f\", \"gridcolor\": \"white\", \"linecolor\": \"white\", \"minorgridcolor\": \"white\", \"startlinecolor\": \"#2a3f5f\"}, \"type\": \"carpet\"}], \"choropleth\": [{\"colorbar\": {\"outlinewidth\": 0, \"ticks\": \"\"}, \"type\": \"choropleth\"}], \"contour\": [{\"colorbar\": {\"outlinewidth\": 0, \"ticks\": \"\"}, \"colorscale\": [[0.0, \"#0d0887\"], [0.1111111111111111, \"#46039f\"], [0.2222222222222222, \"#7201a8\"], [0.3333333333333333, \"#9c179e\"], [0.4444444444444444, \"#bd3786\"], [0.5555555555555556, \"#d8576b\"], [0.6666666666666666, \"#ed7953\"], [0.7777777777777778, \"#fb9f3a\"], [0.8888888888888888, \"#fdca26\"], [1.0, \"#f0f921\"]], \"type\": \"contour\"}], \"contourcarpet\": [{\"colorbar\": {\"outlinewidth\": 0, \"ticks\": \"\"}, \"type\": \"contourcarpet\"}], \"heatmap\": [{\"colorbar\": {\"outlinewidth\": 0, \"ticks\": \"\"}, \"colorscale\": [[0.0, \"#0d0887\"], [0.1111111111111111, \"#46039f\"], [0.2222222222222222, \"#7201a8\"], [0.3333333333333333, \"#9c179e\"], [0.4444444444444444, \"#bd3786\"], [0.5555555555555556, \"#d8576b\"], [0.6666666666666666, \"#ed7953\"], [0.7777777777777778, \"#fb9f3a\"], [0.8888888888888888, \"#fdca26\"], [1.0, \"#f0f921\"]], \"type\": \"heatmap\"}], \"heatmapgl\": [{\"colorbar\": {\"outlinewidth\": 0, \"ticks\": \"\"}, \"colorscale\": [[0.0, \"#0d0887\"], [0.1111111111111111, \"#46039f\"], [0.2222222222222222, \"#7201a8\"], [0.3333333333333333, \"#9c179e\"], [0.4444444444444444, \"#bd3786\"], [0.5555555555555556, \"#d8576b\"], [0.6666666666666666, \"#ed7953\"], [0.7777777777777778, \"#fb9f3a\"], [0.8888888888888888, \"#fdca26\"], [1.0, \"#f0f921\"]], \"type\": \"heatmapgl\"}], \"histogram\": [{\"marker\": {\"colorbar\": {\"outlinewidth\": 0, \"ticks\": \"\"}}, \"type\": \"histogram\"}], \"histogram2d\": [{\"colorbar\": {\"outlinewidth\": 0, \"ticks\": \"\"}, \"colorscale\": [[0.0, \"#0d0887\"], [0.1111111111111111, \"#46039f\"], [0.2222222222222222, \"#7201a8\"], [0.3333333333333333, \"#9c179e\"], [0.4444444444444444, \"#bd3786\"], [0.5555555555555556, \"#d8576b\"], [0.6666666666666666, \"#ed7953\"], [0.7777777777777778, \"#fb9f3a\"], [0.8888888888888888, \"#fdca26\"], [1.0, \"#f0f921\"]], \"type\": \"histogram2d\"}], \"histogram2dcontour\": [{\"colorbar\": {\"outlinewidth\": 0, \"ticks\": \"\"}, \"colorscale\": [[0.0, \"#0d0887\"], [0.1111111111111111, \"#46039f\"], [0.2222222222222222, \"#7201a8\"], [0.3333333333333333, \"#9c179e\"], [0.4444444444444444, \"#bd3786\"], [0.5555555555555556, \"#d8576b\"], [0.6666666666666666, \"#ed7953\"], [0.7777777777777778, \"#fb9f3a\"], [0.8888888888888888, \"#fdca26\"], [1.0, \"#f0f921\"]], \"type\": \"histogram2dcontour\"}], \"mesh3d\": [{\"colorbar\": {\"outlinewidth\": 0, \"ticks\": \"\"}, \"type\": \"mesh3d\"}], \"parcoords\": [{\"line\": {\"colorbar\": {\"outlinewidth\": 0, \"ticks\": \"\"}}, \"type\": \"parcoords\"}], \"pie\": [{\"automargin\": true, \"type\": \"pie\"}], \"scatter\": [{\"marker\": {\"colorbar\": {\"outlinewidth\": 0, \"ticks\": \"\"}}, \"type\": \"scatter\"}], \"scatter3d\": [{\"line\": {\"colorbar\": {\"outlinewidth\": 0, \"ticks\": \"\"}}, \"marker\": {\"colorbar\": {\"outlinewidth\": 0, \"ticks\": \"\"}}, \"type\": \"scatter3d\"}], \"scattercarpet\": [{\"marker\": {\"colorbar\": {\"outlinewidth\": 0, \"ticks\": \"\"}}, \"type\": \"scattercarpet\"}], \"scattergeo\": [{\"marker\": {\"colorbar\": {\"outlinewidth\": 0, \"ticks\": \"\"}}, \"type\": \"scattergeo\"}], \"scattergl\": [{\"marker\": {\"colorbar\": {\"outlinewidth\": 0, \"ticks\": \"\"}}, \"type\": \"scattergl\"}], \"scattermapbox\": [{\"marker\": {\"colorbar\": {\"outlinewidth\": 0, \"ticks\": \"\"}}, \"type\": \"scattermapbox\"}], \"scatterpolar\": [{\"marker\": {\"colorbar\": {\"outlinewidth\": 0, \"ticks\": \"\"}}, \"type\": \"scatterpolar\"}], \"scatterpolargl\": [{\"marker\": {\"colorbar\": {\"outlinewidth\": 0, \"ticks\": \"\"}}, \"type\": \"scatterpolargl\"}], \"scatterternary\": [{\"marker\": {\"colorbar\": {\"outlinewidth\": 0, \"ticks\": \"\"}}, \"type\": \"scatterternary\"}], \"surface\": [{\"colorbar\": {\"outlinewidth\": 0, \"ticks\": \"\"}, \"colorscale\": [[0.0, \"#0d0887\"], [0.1111111111111111, \"#46039f\"], [0.2222222222222222, \"#7201a8\"], [0.3333333333333333, \"#9c179e\"], [0.4444444444444444, \"#bd3786\"], [0.5555555555555556, \"#d8576b\"], [0.6666666666666666, \"#ed7953\"], [0.7777777777777778, \"#fb9f3a\"], [0.8888888888888888, \"#fdca26\"], [1.0, \"#f0f921\"]], \"type\": \"surface\"}], \"table\": [{\"cells\": {\"fill\": {\"color\": \"#EBF0F8\"}, \"line\": {\"color\": \"white\"}}, \"header\": {\"fill\": {\"color\": \"#C8D4E3\"}, \"line\": {\"color\": \"white\"}}, \"type\": \"table\"}]}, \"layout\": {\"annotationdefaults\": {\"arrowcolor\": \"#2a3f5f\", \"arrowhead\": 0, \"arrowwidth\": 1}, \"coloraxis\": {\"colorbar\": {\"outlinewidth\": 0, \"ticks\": \"\"}}, \"colorscale\": {\"diverging\": [[0, \"#8e0152\"], [0.1, \"#c51b7d\"], [0.2, \"#de77ae\"], [0.3, \"#f1b6da\"], [0.4, \"#fde0ef\"], [0.5, \"#f7f7f7\"], [0.6, \"#e6f5d0\"], [0.7, \"#b8e186\"], [0.8, \"#7fbc41\"], [0.9, \"#4d9221\"], [1, \"#276419\"]], \"sequential\": [[0.0, \"#0d0887\"], [0.1111111111111111, \"#46039f\"], [0.2222222222222222, \"#7201a8\"], [0.3333333333333333, \"#9c179e\"], [0.4444444444444444, \"#bd3786\"], [0.5555555555555556, \"#d8576b\"], [0.6666666666666666, \"#ed7953\"], [0.7777777777777778, \"#fb9f3a\"], [0.8888888888888888, \"#fdca26\"], [1.0, \"#f0f921\"]], \"sequentialminus\": [[0.0, \"#0d0887\"], [0.1111111111111111, \"#46039f\"], [0.2222222222222222, \"#7201a8\"], [0.3333333333333333, \"#9c179e\"], [0.4444444444444444, \"#bd3786\"], [0.5555555555555556, \"#d8576b\"], [0.6666666666666666, \"#ed7953\"], [0.7777777777777778, \"#fb9f3a\"], [0.8888888888888888, \"#fdca26\"], [1.0, \"#f0f921\"]]}, \"colorway\": [\"#636efa\", \"#EF553B\", \"#00cc96\", \"#ab63fa\", \"#FFA15A\", \"#19d3f3\", \"#FF6692\", \"#B6E880\", \"#FF97FF\", \"#FECB52\"], \"font\": {\"color\": \"#2a3f5f\"}, \"geo\": {\"bgcolor\": \"white\", \"lakecolor\": \"white\", \"landcolor\": \"#E5ECF6\", \"showlakes\": true, \"showland\": true, \"subunitcolor\": \"white\"}, \"hoverlabel\": {\"align\": \"left\"}, \"hovermode\": \"closest\", \"mapbox\": {\"style\": \"light\"}, \"paper_bgcolor\": \"white\", \"plot_bgcolor\": \"#E5ECF6\", \"polar\": {\"angularaxis\": {\"gridcolor\": \"white\", \"linecolor\": \"white\", \"ticks\": \"\"}, \"bgcolor\": \"#E5ECF6\", \"radialaxis\": {\"gridcolor\": \"white\", \"linecolor\": \"white\", \"ticks\": \"\"}}, \"scene\": {\"xaxis\": {\"backgroundcolor\": \"#E5ECF6\", \"gridcolor\": \"white\", \"gridwidth\": 2, \"linecolor\": \"white\", \"showbackground\": true, \"ticks\": \"\", \"zerolinecolor\": \"white\"}, \"yaxis\": {\"backgroundcolor\": \"#E5ECF6\", \"gridcolor\": \"white\", \"gridwidth\": 2, \"linecolor\": \"white\", \"showbackground\": true, \"ticks\": \"\", \"zerolinecolor\": \"white\"}, \"zaxis\": {\"backgroundcolor\": \"#E5ECF6\", \"gridcolor\": \"white\", \"gridwidth\": 2, \"linecolor\": \"white\", \"showbackground\": true, \"ticks\": \"\", \"zerolinecolor\": \"white\"}}, \"shapedefaults\": {\"line\": {\"color\": \"#2a3f5f\"}}, \"ternary\": {\"aaxis\": {\"gridcolor\": \"white\", \"linecolor\": \"white\", \"ticks\": \"\"}, \"baxis\": {\"gridcolor\": \"white\", \"linecolor\": \"white\", \"ticks\": \"\"}, \"bgcolor\": \"#E5ECF6\", \"caxis\": {\"gridcolor\": \"white\", \"linecolor\": \"white\", \"ticks\": \"\"}}, \"title\": {\"x\": 0.05}, \"xaxis\": {\"automargin\": true, \"gridcolor\": \"white\", \"linecolor\": \"white\", \"ticks\": \"\", \"title\": {\"standoff\": 15}, \"zerolinecolor\": \"white\", \"zerolinewidth\": 2}, \"yaxis\": {\"automargin\": true, \"gridcolor\": \"white\", \"linecolor\": \"white\", \"ticks\": \"\", \"title\": {\"standoff\": 15}, \"zerolinecolor\": \"white\", \"zerolinewidth\": 2}}}, \"title\": {\"text\": \"Total pie terjual per minggu\"}, \"xaxis\": {\"title\": {\"text\": \"Week\"}}, \"yaxis\": {\"title\": {\"text\": \"Pie Sales\"}}},\n",
              "                        {\"responsive\": true}\n",
              "                    ).then(function(){\n",
              "                            \n",
              "var gd = document.getElementById('147c347e-10ec-4f13-9a9c-8d720980c981');\n",
              "var x = new MutationObserver(function (mutations, observer) {{\n",
              "        var display = window.getComputedStyle(gd).display;\n",
              "        if (!display || display === 'none') {{\n",
              "            console.log([gd, 'removed!']);\n",
              "            Plotly.purge(gd);\n",
              "            observer.disconnect();\n",
              "        }}\n",
              "}});\n",
              "\n",
              "// Listen for the removal of the full notebook cells\n",
              "var notebookContainer = gd.closest('#notebook-container');\n",
              "if (notebookContainer) {{\n",
              "    x.observe(notebookContainer, {childList: true});\n",
              "}}\n",
              "\n",
              "// Listen for the clearing of the current output cell\n",
              "var outputEl = gd.closest('.output');\n",
              "if (outputEl) {{\n",
              "    x.observe(outputEl, {childList: true});\n",
              "}}\n",
              "\n",
              "                        })\n",
              "                };\n",
              "                \n",
              "            </script>\n",
              "        </div>\n",
              "</body>\n",
              "</html>"
            ]
          },
          "metadata": {
            "tags": []
          }
        }
      ]
    },
    {
      "cell_type": "markdown",
      "metadata": {
        "id": "B2vtv89sXKrF"
      },
      "source": [
        "Grafik di atas menunjukkan bahwa penjualan pie fluktuatif pada awal minggu, hingga mencapai puncaknya di minggu ke-10 dengan total penjualan pie 490 buah. Namun mengalami penurunan tajam dan menjadi paling rendah selama pekan penjualan, tepatnya di minggu ke-12 dengan angka penjualan 300 pie. Sempat naik pada minggu 13 dan 14 namun turun tajam kembali di minggu berkutnya dengan total penjualan yang sama pada minggu ke-12."
      ]
    },
    {
      "cell_type": "markdown",
      "metadata": {
        "id": "EZ6sNlFsYEtt"
      },
      "source": [
        "### Regression Fit\n",
        "\n",
        "Digunakan untuk melihat relasi linear fitur independen (`week`) terhadap targetnya (`pie_sales`). Apakah memiliki relasi linear yang kuat atau tidak?"
      ]
    },
    {
      "cell_type": "code",
      "metadata": {
        "id": "eo9jmqry6k7d",
        "outputId": "6381bda7-543f-42f9-c62d-f07ab093fa15",
        "colab": {
          "base_uri": "https://localhost:8080/",
          "height": 542
        }
      },
      "source": [
        "week_piesales.show()"
      ],
      "execution_count": 140,
      "outputs": [
        {
          "output_type": "display_data",
          "data": {
            "text/html": [
              "<html>\n",
              "<head><meta charset=\"utf-8\" /></head>\n",
              "<body>\n",
              "    <div>\n",
              "            <script src=\"https://cdnjs.cloudflare.com/ajax/libs/mathjax/2.7.5/MathJax.js?config=TeX-AMS-MML_SVG\"></script><script type=\"text/javascript\">if (window.MathJax) {MathJax.Hub.Config({SVG: {font: \"STIX-Web\"}});}</script>\n",
              "                <script type=\"text/javascript\">window.PlotlyConfig = {MathJaxConfig: 'local'};</script>\n",
              "        <script src=\"https://cdn.plot.ly/plotly-latest.min.js\"></script>    \n",
              "            <div id=\"758ba08f-c2aa-4c93-966f-b7979caea5c6\" class=\"plotly-graph-div\" style=\"height:525px; width:100%;\"></div>\n",
              "            <script type=\"text/javascript\">\n",
              "                \n",
              "                    window.PLOTLYENV=window.PLOTLYENV || {};\n",
              "                    \n",
              "                if (document.getElementById(\"758ba08f-c2aa-4c93-966f-b7979caea5c6\")) {\n",
              "                    Plotly.newPlot(\n",
              "                        '758ba08f-c2aa-4c93-966f-b7979caea5c6',\n",
              "                        [{\"hoverlabel\": {\"namelength\": 0}, \"hovertemplate\": \"week=%{x}<br>pie_sales=%{y}\", \"legendgroup\": \"\", \"marker\": {\"color\": \"rgb(76,114,176)\", \"symbol\": \"circle\"}, \"mode\": \"markers\", \"name\": \"\", \"showlegend\": false, \"type\": \"scatter\", \"x\": [1, 2, 3, 4, 5, 6, 7, 8, 9, 10, 11, 12, 13, 14, 15], \"xaxis\": \"x\", \"y\": [350, 460, 350, 430, 350, 380, 430, 470, 450, 490, 340, 300, 440, 450, 300], \"yaxis\": \"y\"}, {\"hoverlabel\": {\"namelength\": 0}, \"hovertemplate\": \"<b>OLS trendline</b><br>pie_sales = -0.964286 * week + 407.047619<br>R<sup>2</sup>=0.004609<br><br>week=%{x}<br>pie_sales=%{y} <b>(trend)</b>\", \"legendgroup\": \"\", \"line\": {\"color\": \"darkblue\"}, \"marker\": {\"color\": \"rgb(76,114,176)\", \"symbol\": \"circle\"}, \"mode\": \"lines\", \"name\": \"\", \"showlegend\": false, \"type\": \"scatter\", \"x\": [1, 2, 3, 4, 5, 6, 7, 8, 9, 10, 11, 12, 13, 14, 15], \"xaxis\": \"x\", \"y\": [406.08333333333354, 405.1190476190478, 404.15476190476215, 403.19047619047643, 402.2261904761907, 401.26190476190504, 400.2976190476193, 399.3333333333336, 398.3690476190479, 397.40476190476215, 396.4404761904765, 395.47619047619077, 394.51190476190504, 393.5476190476194, 392.58333333333366], \"yaxis\": \"y\"}],\n",
              "                        {\"legend\": {\"tracegroupgap\": 0}, \"template\": {\"data\": {\"bar\": [{\"error_x\": {\"color\": \"rgb(36,36,36)\"}, \"error_y\": {\"color\": \"rgb(36,36,36)\"}, \"marker\": {\"line\": {\"color\": \"rgb(234,234,242)\", \"width\": 0.5}}, \"type\": \"bar\"}], \"barpolar\": [{\"marker\": {\"line\": {\"color\": \"rgb(234,234,242)\", \"width\": 0.5}}, \"type\": \"barpolar\"}], \"carpet\": [{\"aaxis\": {\"endlinecolor\": \"rgb(36,36,36)\", \"gridcolor\": \"white\", \"linecolor\": \"white\", \"minorgridcolor\": \"white\", \"startlinecolor\": \"rgb(36,36,36)\"}, \"baxis\": {\"endlinecolor\": \"rgb(36,36,36)\", \"gridcolor\": \"white\", \"linecolor\": \"white\", \"minorgridcolor\": \"white\", \"startlinecolor\": \"rgb(36,36,36)\"}, \"type\": \"carpet\"}], \"choropleth\": [{\"colorbar\": {\"outlinewidth\": 0, \"tickcolor\": \"rgb(36,36,36)\", \"ticklen\": 8, \"ticks\": \"outside\", \"tickwidth\": 2}, \"type\": \"choropleth\"}], \"contour\": [{\"colorbar\": {\"outlinewidth\": 0, \"tickcolor\": \"rgb(36,36,36)\", \"ticklen\": 8, \"ticks\": \"outside\", \"tickwidth\": 2}, \"colorscale\": [[0.0, \"rgb(2,4,25)\"], [0.06274509803921569, \"rgb(24,15,41)\"], [0.12549019607843137, \"rgb(47,23,57)\"], [0.18823529411764706, \"rgb(71,28,72)\"], [0.25098039215686274, \"rgb(97,30,82)\"], [0.3137254901960784, \"rgb(123,30,89)\"], [0.3764705882352941, \"rgb(150,27,91)\"], [0.4392156862745098, \"rgb(177,22,88)\"], [0.5019607843137255, \"rgb(203,26,79)\"], [0.5647058823529412, \"rgb(223,47,67)\"], [0.6274509803921569, \"rgb(236,76,61)\"], [0.6901960784313725, \"rgb(242,107,73)\"], [0.7529411764705882, \"rgb(244,135,95)\"], [0.8156862745098039, \"rgb(245,162,122)\"], [0.8784313725490196, \"rgb(246,188,153)\"], [0.9411764705882353, \"rgb(247,212,187)\"], [1.0, \"rgb(250,234,220)\"]], \"type\": \"contour\"}], \"contourcarpet\": [{\"colorbar\": {\"outlinewidth\": 0, \"tickcolor\": \"rgb(36,36,36)\", \"ticklen\": 8, \"ticks\": \"outside\", \"tickwidth\": 2}, \"type\": \"contourcarpet\"}], \"heatmap\": [{\"colorbar\": {\"outlinewidth\": 0, \"tickcolor\": \"rgb(36,36,36)\", \"ticklen\": 8, \"ticks\": \"outside\", \"tickwidth\": 2}, \"colorscale\": [[0.0, \"rgb(2,4,25)\"], [0.06274509803921569, \"rgb(24,15,41)\"], [0.12549019607843137, \"rgb(47,23,57)\"], [0.18823529411764706, \"rgb(71,28,72)\"], [0.25098039215686274, \"rgb(97,30,82)\"], [0.3137254901960784, \"rgb(123,30,89)\"], [0.3764705882352941, \"rgb(150,27,91)\"], [0.4392156862745098, \"rgb(177,22,88)\"], [0.5019607843137255, \"rgb(203,26,79)\"], [0.5647058823529412, \"rgb(223,47,67)\"], [0.6274509803921569, \"rgb(236,76,61)\"], [0.6901960784313725, \"rgb(242,107,73)\"], [0.7529411764705882, \"rgb(244,135,95)\"], [0.8156862745098039, \"rgb(245,162,122)\"], [0.8784313725490196, \"rgb(246,188,153)\"], [0.9411764705882353, \"rgb(247,212,187)\"], [1.0, \"rgb(250,234,220)\"]], \"type\": \"heatmap\"}], \"heatmapgl\": [{\"colorbar\": {\"outlinewidth\": 0, \"tickcolor\": \"rgb(36,36,36)\", \"ticklen\": 8, \"ticks\": \"outside\", \"tickwidth\": 2}, \"colorscale\": [[0.0, \"rgb(2,4,25)\"], [0.06274509803921569, \"rgb(24,15,41)\"], [0.12549019607843137, \"rgb(47,23,57)\"], [0.18823529411764706, \"rgb(71,28,72)\"], [0.25098039215686274, \"rgb(97,30,82)\"], [0.3137254901960784, \"rgb(123,30,89)\"], [0.3764705882352941, \"rgb(150,27,91)\"], [0.4392156862745098, \"rgb(177,22,88)\"], [0.5019607843137255, \"rgb(203,26,79)\"], [0.5647058823529412, \"rgb(223,47,67)\"], [0.6274509803921569, \"rgb(236,76,61)\"], [0.6901960784313725, \"rgb(242,107,73)\"], [0.7529411764705882, \"rgb(244,135,95)\"], [0.8156862745098039, \"rgb(245,162,122)\"], [0.8784313725490196, \"rgb(246,188,153)\"], [0.9411764705882353, \"rgb(247,212,187)\"], [1.0, \"rgb(250,234,220)\"]], \"type\": \"heatmapgl\"}], \"histogram\": [{\"marker\": {\"colorbar\": {\"outlinewidth\": 0, \"tickcolor\": \"rgb(36,36,36)\", \"ticklen\": 8, \"ticks\": \"outside\", \"tickwidth\": 2}}, \"type\": \"histogram\"}], \"histogram2d\": [{\"colorbar\": {\"outlinewidth\": 0, \"tickcolor\": \"rgb(36,36,36)\", \"ticklen\": 8, \"ticks\": \"outside\", \"tickwidth\": 2}, \"colorscale\": [[0.0, \"rgb(2,4,25)\"], [0.06274509803921569, \"rgb(24,15,41)\"], [0.12549019607843137, \"rgb(47,23,57)\"], [0.18823529411764706, \"rgb(71,28,72)\"], [0.25098039215686274, \"rgb(97,30,82)\"], [0.3137254901960784, \"rgb(123,30,89)\"], [0.3764705882352941, \"rgb(150,27,91)\"], [0.4392156862745098, \"rgb(177,22,88)\"], [0.5019607843137255, \"rgb(203,26,79)\"], [0.5647058823529412, \"rgb(223,47,67)\"], [0.6274509803921569, \"rgb(236,76,61)\"], [0.6901960784313725, \"rgb(242,107,73)\"], [0.7529411764705882, \"rgb(244,135,95)\"], [0.8156862745098039, \"rgb(245,162,122)\"], [0.8784313725490196, \"rgb(246,188,153)\"], [0.9411764705882353, \"rgb(247,212,187)\"], [1.0, \"rgb(250,234,220)\"]], \"type\": \"histogram2d\"}], \"histogram2dcontour\": [{\"colorbar\": {\"outlinewidth\": 0, \"tickcolor\": \"rgb(36,36,36)\", \"ticklen\": 8, \"ticks\": \"outside\", \"tickwidth\": 2}, \"colorscale\": [[0.0, \"rgb(2,4,25)\"], [0.06274509803921569, \"rgb(24,15,41)\"], [0.12549019607843137, \"rgb(47,23,57)\"], [0.18823529411764706, \"rgb(71,28,72)\"], [0.25098039215686274, \"rgb(97,30,82)\"], [0.3137254901960784, \"rgb(123,30,89)\"], [0.3764705882352941, \"rgb(150,27,91)\"], [0.4392156862745098, \"rgb(177,22,88)\"], [0.5019607843137255, \"rgb(203,26,79)\"], [0.5647058823529412, \"rgb(223,47,67)\"], [0.6274509803921569, \"rgb(236,76,61)\"], [0.6901960784313725, \"rgb(242,107,73)\"], [0.7529411764705882, \"rgb(244,135,95)\"], [0.8156862745098039, \"rgb(245,162,122)\"], [0.8784313725490196, \"rgb(246,188,153)\"], [0.9411764705882353, \"rgb(247,212,187)\"], [1.0, \"rgb(250,234,220)\"]], \"type\": \"histogram2dcontour\"}], \"mesh3d\": [{\"colorbar\": {\"outlinewidth\": 0, \"tickcolor\": \"rgb(36,36,36)\", \"ticklen\": 8, \"ticks\": \"outside\", \"tickwidth\": 2}, \"type\": \"mesh3d\"}], \"parcoords\": [{\"line\": {\"colorbar\": {\"outlinewidth\": 0, \"tickcolor\": \"rgb(36,36,36)\", \"ticklen\": 8, \"ticks\": \"outside\", \"tickwidth\": 2}}, \"type\": \"parcoords\"}], \"pie\": [{\"automargin\": true, \"type\": \"pie\"}], \"scatter\": [{\"marker\": {\"colorbar\": {\"outlinewidth\": 0, \"tickcolor\": \"rgb(36,36,36)\", \"ticklen\": 8, \"ticks\": \"outside\", \"tickwidth\": 2}}, \"type\": \"scatter\"}], \"scatter3d\": [{\"line\": {\"colorbar\": {\"outlinewidth\": 0, \"tickcolor\": \"rgb(36,36,36)\", \"ticklen\": 8, \"ticks\": \"outside\", \"tickwidth\": 2}}, \"marker\": {\"colorbar\": {\"outlinewidth\": 0, \"tickcolor\": \"rgb(36,36,36)\", \"ticklen\": 8, \"ticks\": \"outside\", \"tickwidth\": 2}}, \"type\": \"scatter3d\"}], \"scattercarpet\": [{\"marker\": {\"colorbar\": {\"outlinewidth\": 0, \"tickcolor\": \"rgb(36,36,36)\", \"ticklen\": 8, \"ticks\": \"outside\", \"tickwidth\": 2}}, \"type\": \"scattercarpet\"}], \"scattergeo\": [{\"marker\": {\"colorbar\": {\"outlinewidth\": 0, \"tickcolor\": \"rgb(36,36,36)\", \"ticklen\": 8, \"ticks\": \"outside\", \"tickwidth\": 2}}, \"type\": \"scattergeo\"}], \"scattergl\": [{\"marker\": {\"colorbar\": {\"outlinewidth\": 0, \"tickcolor\": \"rgb(36,36,36)\", \"ticklen\": 8, \"ticks\": \"outside\", \"tickwidth\": 2}}, \"type\": \"scattergl\"}], \"scattermapbox\": [{\"marker\": {\"colorbar\": {\"outlinewidth\": 0, \"tickcolor\": \"rgb(36,36,36)\", \"ticklen\": 8, \"ticks\": \"outside\", \"tickwidth\": 2}}, \"type\": \"scattermapbox\"}], \"scatterpolar\": [{\"marker\": {\"colorbar\": {\"outlinewidth\": 0, \"tickcolor\": \"rgb(36,36,36)\", \"ticklen\": 8, \"ticks\": \"outside\", \"tickwidth\": 2}}, \"type\": \"scatterpolar\"}], \"scatterpolargl\": [{\"marker\": {\"colorbar\": {\"outlinewidth\": 0, \"tickcolor\": \"rgb(36,36,36)\", \"ticklen\": 8, \"ticks\": \"outside\", \"tickwidth\": 2}}, \"type\": \"scatterpolargl\"}], \"scatterternary\": [{\"marker\": {\"colorbar\": {\"outlinewidth\": 0, \"tickcolor\": \"rgb(36,36,36)\", \"ticklen\": 8, \"ticks\": \"outside\", \"tickwidth\": 2}}, \"type\": \"scatterternary\"}], \"surface\": [{\"colorbar\": {\"outlinewidth\": 0, \"tickcolor\": \"rgb(36,36,36)\", \"ticklen\": 8, \"ticks\": \"outside\", \"tickwidth\": 2}, \"colorscale\": [[0.0, \"rgb(2,4,25)\"], [0.06274509803921569, \"rgb(24,15,41)\"], [0.12549019607843137, \"rgb(47,23,57)\"], [0.18823529411764706, \"rgb(71,28,72)\"], [0.25098039215686274, \"rgb(97,30,82)\"], [0.3137254901960784, \"rgb(123,30,89)\"], [0.3764705882352941, \"rgb(150,27,91)\"], [0.4392156862745098, \"rgb(177,22,88)\"], [0.5019607843137255, \"rgb(203,26,79)\"], [0.5647058823529412, \"rgb(223,47,67)\"], [0.6274509803921569, \"rgb(236,76,61)\"], [0.6901960784313725, \"rgb(242,107,73)\"], [0.7529411764705882, \"rgb(244,135,95)\"], [0.8156862745098039, \"rgb(245,162,122)\"], [0.8784313725490196, \"rgb(246,188,153)\"], [0.9411764705882353, \"rgb(247,212,187)\"], [1.0, \"rgb(250,234,220)\"]], \"type\": \"surface\"}], \"table\": [{\"cells\": {\"fill\": {\"color\": \"rgb(231,231,240)\"}, \"line\": {\"color\": \"white\"}}, \"header\": {\"fill\": {\"color\": \"rgb(183,183,191)\"}, \"line\": {\"color\": \"white\"}}, \"type\": \"table\"}]}, \"layout\": {\"annotationdefaults\": {\"arrowcolor\": \"rgb(67,103,167)\"}, \"coloraxis\": {\"colorbar\": {\"outlinewidth\": 0, \"tickcolor\": \"rgb(36,36,36)\", \"ticklen\": 8, \"ticks\": \"outside\", \"tickwidth\": 2}}, \"colorscale\": {\"sequential\": [[0.0, \"rgb(2,4,25)\"], [0.06274509803921569, \"rgb(24,15,41)\"], [0.12549019607843137, \"rgb(47,23,57)\"], [0.18823529411764706, \"rgb(71,28,72)\"], [0.25098039215686274, \"rgb(97,30,82)\"], [0.3137254901960784, \"rgb(123,30,89)\"], [0.3764705882352941, \"rgb(150,27,91)\"], [0.4392156862745098, \"rgb(177,22,88)\"], [0.5019607843137255, \"rgb(203,26,79)\"], [0.5647058823529412, \"rgb(223,47,67)\"], [0.6274509803921569, \"rgb(236,76,61)\"], [0.6901960784313725, \"rgb(242,107,73)\"], [0.7529411764705882, \"rgb(244,135,95)\"], [0.8156862745098039, \"rgb(245,162,122)\"], [0.8784313725490196, \"rgb(246,188,153)\"], [0.9411764705882353, \"rgb(247,212,187)\"], [1.0, \"rgb(250,234,220)\"]], \"sequentialminus\": [[0.0, \"rgb(2,4,25)\"], [0.06274509803921569, \"rgb(24,15,41)\"], [0.12549019607843137, \"rgb(47,23,57)\"], [0.18823529411764706, \"rgb(71,28,72)\"], [0.25098039215686274, \"rgb(97,30,82)\"], [0.3137254901960784, \"rgb(123,30,89)\"], [0.3764705882352941, \"rgb(150,27,91)\"], [0.4392156862745098, \"rgb(177,22,88)\"], [0.5019607843137255, \"rgb(203,26,79)\"], [0.5647058823529412, \"rgb(223,47,67)\"], [0.6274509803921569, \"rgb(236,76,61)\"], [0.6901960784313725, \"rgb(242,107,73)\"], [0.7529411764705882, \"rgb(244,135,95)\"], [0.8156862745098039, \"rgb(245,162,122)\"], [0.8784313725490196, \"rgb(246,188,153)\"], [0.9411764705882353, \"rgb(247,212,187)\"], [1.0, \"rgb(250,234,220)\"]]}, \"colorway\": [\"rgb(76,114,176)\", \"rgb(221,132,82)\", \"rgb(85,168,104)\", \"rgb(196,78,82)\", \"rgb(129,114,179)\", \"rgb(147,120,96)\", \"rgb(218,139,195)\", \"rgb(140,140,140)\", \"rgb(204,185,116)\", \"rgb(100,181,205)\"], \"font\": {\"color\": \"rgb(36,36,36)\"}, \"geo\": {\"bgcolor\": \"white\", \"lakecolor\": \"white\", \"landcolor\": \"rgb(234,234,242)\", \"showlakes\": true, \"showland\": true, \"subunitcolor\": \"white\"}, \"hoverlabel\": {\"align\": \"left\"}, \"hovermode\": \"closest\", \"paper_bgcolor\": \"white\", \"plot_bgcolor\": \"rgb(234,234,242)\", \"polar\": {\"angularaxis\": {\"gridcolor\": \"white\", \"linecolor\": \"white\", \"showgrid\": true, \"ticks\": \"\"}, \"bgcolor\": \"rgb(234,234,242)\", \"radialaxis\": {\"gridcolor\": \"white\", \"linecolor\": \"white\", \"showgrid\": true, \"ticks\": \"\"}}, \"scene\": {\"xaxis\": {\"backgroundcolor\": \"rgb(234,234,242)\", \"gridcolor\": \"white\", \"gridwidth\": 2, \"linecolor\": \"white\", \"showbackground\": true, \"showgrid\": true, \"ticks\": \"\", \"zerolinecolor\": \"white\"}, \"yaxis\": {\"backgroundcolor\": \"rgb(234,234,242)\", \"gridcolor\": \"white\", \"gridwidth\": 2, \"linecolor\": \"white\", \"showbackground\": true, \"showgrid\": true, \"ticks\": \"\", \"zerolinecolor\": \"white\"}, \"zaxis\": {\"backgroundcolor\": \"rgb(234,234,242)\", \"gridcolor\": \"white\", \"gridwidth\": 2, \"linecolor\": \"white\", \"showbackground\": true, \"showgrid\": true, \"ticks\": \"\", \"zerolinecolor\": \"white\"}}, \"shapedefaults\": {\"fillcolor\": \"rgb(67,103,167)\", \"line\": {\"width\": 0}, \"opacity\": 0.5}, \"ternary\": {\"aaxis\": {\"gridcolor\": \"white\", \"linecolor\": \"white\", \"showgrid\": true, \"ticks\": \"\"}, \"baxis\": {\"gridcolor\": \"white\", \"linecolor\": \"white\", \"showgrid\": true, \"ticks\": \"\"}, \"bgcolor\": \"rgb(234,234,242)\", \"caxis\": {\"gridcolor\": \"white\", \"linecolor\": \"white\", \"showgrid\": true, \"ticks\": \"\"}}, \"xaxis\": {\"automargin\": true, \"gridcolor\": \"white\", \"linecolor\": \"white\", \"showgrid\": true, \"ticks\": \"\", \"title\": {\"standoff\": 15}, \"zerolinecolor\": \"white\"}, \"yaxis\": {\"automargin\": true, \"gridcolor\": \"white\", \"linecolor\": \"white\", \"showgrid\": true, \"ticks\": \"\", \"title\": {\"standoff\": 15}, \"zerolinecolor\": \"white\"}}}, \"title\": {\"text\": \"Regression fit: Week vs Pie sales\"}, \"xaxis\": {\"anchor\": \"y\", \"domain\": [0.0, 1.0], \"title\": {\"text\": \"week\"}}, \"yaxis\": {\"anchor\": \"x\", \"domain\": [0.0, 1.0], \"title\": {\"text\": \"pie_sales\"}}},\n",
              "                        {\"responsive\": true}\n",
              "                    ).then(function(){\n",
              "                            \n",
              "var gd = document.getElementById('758ba08f-c2aa-4c93-966f-b7979caea5c6');\n",
              "var x = new MutationObserver(function (mutations, observer) {{\n",
              "        var display = window.getComputedStyle(gd).display;\n",
              "        if (!display || display === 'none') {{\n",
              "            console.log([gd, 'removed!']);\n",
              "            Plotly.purge(gd);\n",
              "            observer.disconnect();\n",
              "        }}\n",
              "}});\n",
              "\n",
              "// Listen for the removal of the full notebook cells\n",
              "var notebookContainer = gd.closest('#notebook-container');\n",
              "if (notebookContainer) {{\n",
              "    x.observe(notebookContainer, {childList: true});\n",
              "}}\n",
              "\n",
              "// Listen for the clearing of the current output cell\n",
              "var outputEl = gd.closest('.output');\n",
              "if (outputEl) {{\n",
              "    x.observe(outputEl, {childList: true});\n",
              "}}\n",
              "\n",
              "                        })\n",
              "                };\n",
              "                \n",
              "            </script>\n",
              "        </div>\n",
              "</body>\n",
              "</html>"
            ]
          },
          "metadata": {
            "tags": []
          }
        }
      ]
    },
    {
      "cell_type": "markdown",
      "metadata": {
        "id": "pkDZd8zy78i8"
      },
      "source": [
        "## Price - Pie Sales"
      ]
    },
    {
      "cell_type": "code",
      "metadata": {
        "id": "JWUiL6mH8IJq",
        "outputId": "3418b14b-07ee-4b4d-cda5-3efb621a4d2f",
        "colab": {
          "base_uri": "https://localhost:8080/",
          "height": 542
        }
      },
      "source": [
        "price_piesales.show()"
      ],
      "execution_count": 141,
      "outputs": [
        {
          "output_type": "display_data",
          "data": {
            "text/html": [
              "<html>\n",
              "<head><meta charset=\"utf-8\" /></head>\n",
              "<body>\n",
              "    <div>\n",
              "            <script src=\"https://cdnjs.cloudflare.com/ajax/libs/mathjax/2.7.5/MathJax.js?config=TeX-AMS-MML_SVG\"></script><script type=\"text/javascript\">if (window.MathJax) {MathJax.Hub.Config({SVG: {font: \"STIX-Web\"}});}</script>\n",
              "                <script type=\"text/javascript\">window.PlotlyConfig = {MathJaxConfig: 'local'};</script>\n",
              "        <script src=\"https://cdn.plot.ly/plotly-latest.min.js\"></script>    \n",
              "            <div id=\"948b6c4d-66ed-417b-92f3-6b2b5813703a\" class=\"plotly-graph-div\" style=\"height:525px; width:100%;\"></div>\n",
              "            <script type=\"text/javascript\">\n",
              "                \n",
              "                    window.PLOTLYENV=window.PLOTLYENV || {};\n",
              "                    \n",
              "                if (document.getElementById(\"948b6c4d-66ed-417b-92f3-6b2b5813703a\")) {\n",
              "                    Plotly.newPlot(\n",
              "                        '948b6c4d-66ed-417b-92f3-6b2b5813703a',\n",
              "                        [{\"hoverlabel\": {\"namelength\": 0}, \"hovertemplate\": \"price=%{x}<br>pie_sales=%{y}\", \"legendgroup\": \"\", \"marker\": {\"color\": \"rgb(76,114,176)\", \"symbol\": \"circle\"}, \"mode\": \"markers\", \"name\": \"\", \"showlegend\": false, \"type\": \"scatter\", \"x\": [5.5, 7.5, 8.0, 8.0, 6.8, 7.5, 4.5, 6.4, 7.0, 5.0, 7.2, 7.9, 5.9, 5.0, 7.0], \"xaxis\": \"x\", \"y\": [350, 460, 350, 430, 350, 380, 430, 470, 450, 490, 340, 300, 440, 450, 300], \"yaxis\": \"y\"}, {\"hoverlabel\": {\"namelength\": 0}, \"hovertemplate\": \"<b>OLS trendline</b><br>pie_sales = -24.033858 * price + 558.277250<br>R<sup>2</sup>=0.196491<br><br>price=%{x}<br>pie_sales=%{y} <b>(trend)</b>\", \"legendgroup\": \"\", \"line\": {\"color\": \"darkblue\"}, \"marker\": {\"color\": \"rgb(76,114,176)\", \"symbol\": \"circle\"}, \"mode\": \"lines\", \"name\": \"\", \"showlegend\": false, \"type\": \"scatter\", \"x\": [4.5, 5.0, 5.0, 5.5, 5.9, 6.4, 6.8, 7.0, 7.0, 7.2, 7.5, 7.5, 7.9, 8.0, 8.0], \"xaxis\": \"x\", \"y\": [450.1248872545617, 438.10795809338777, 438.10795809338777, 426.09102893221376, 416.4774856032746, 404.4605564421006, 394.84701311316144, 390.04024144869186, 390.04024144869186, 385.2334697842223, 378.0233122875179, 378.0233122875179, 368.40976895857875, 366.00638312634396, 366.00638312634396], \"yaxis\": \"y\"}],\n",
              "                        {\"legend\": {\"tracegroupgap\": 0}, \"template\": {\"data\": {\"bar\": [{\"error_x\": {\"color\": \"rgb(36,36,36)\"}, \"error_y\": {\"color\": \"rgb(36,36,36)\"}, \"marker\": {\"line\": {\"color\": \"rgb(234,234,242)\", \"width\": 0.5}}, \"type\": \"bar\"}], \"barpolar\": [{\"marker\": {\"line\": {\"color\": \"rgb(234,234,242)\", \"width\": 0.5}}, \"type\": \"barpolar\"}], \"carpet\": [{\"aaxis\": {\"endlinecolor\": \"rgb(36,36,36)\", \"gridcolor\": \"white\", \"linecolor\": \"white\", \"minorgridcolor\": \"white\", \"startlinecolor\": \"rgb(36,36,36)\"}, \"baxis\": {\"endlinecolor\": \"rgb(36,36,36)\", \"gridcolor\": \"white\", \"linecolor\": \"white\", \"minorgridcolor\": \"white\", \"startlinecolor\": \"rgb(36,36,36)\"}, \"type\": \"carpet\"}], \"choropleth\": [{\"colorbar\": {\"outlinewidth\": 0, \"tickcolor\": \"rgb(36,36,36)\", \"ticklen\": 8, \"ticks\": \"outside\", \"tickwidth\": 2}, \"type\": \"choropleth\"}], \"contour\": [{\"colorbar\": {\"outlinewidth\": 0, \"tickcolor\": \"rgb(36,36,36)\", \"ticklen\": 8, \"ticks\": \"outside\", \"tickwidth\": 2}, \"colorscale\": [[0.0, \"rgb(2,4,25)\"], [0.06274509803921569, \"rgb(24,15,41)\"], [0.12549019607843137, \"rgb(47,23,57)\"], [0.18823529411764706, \"rgb(71,28,72)\"], [0.25098039215686274, \"rgb(97,30,82)\"], [0.3137254901960784, \"rgb(123,30,89)\"], [0.3764705882352941, \"rgb(150,27,91)\"], [0.4392156862745098, \"rgb(177,22,88)\"], [0.5019607843137255, \"rgb(203,26,79)\"], [0.5647058823529412, \"rgb(223,47,67)\"], [0.6274509803921569, \"rgb(236,76,61)\"], [0.6901960784313725, \"rgb(242,107,73)\"], [0.7529411764705882, \"rgb(244,135,95)\"], [0.8156862745098039, \"rgb(245,162,122)\"], [0.8784313725490196, \"rgb(246,188,153)\"], [0.9411764705882353, \"rgb(247,212,187)\"], [1.0, \"rgb(250,234,220)\"]], \"type\": \"contour\"}], \"contourcarpet\": [{\"colorbar\": {\"outlinewidth\": 0, \"tickcolor\": \"rgb(36,36,36)\", \"ticklen\": 8, \"ticks\": \"outside\", \"tickwidth\": 2}, \"type\": \"contourcarpet\"}], \"heatmap\": [{\"colorbar\": {\"outlinewidth\": 0, \"tickcolor\": \"rgb(36,36,36)\", \"ticklen\": 8, \"ticks\": \"outside\", \"tickwidth\": 2}, \"colorscale\": [[0.0, \"rgb(2,4,25)\"], [0.06274509803921569, \"rgb(24,15,41)\"], [0.12549019607843137, \"rgb(47,23,57)\"], [0.18823529411764706, \"rgb(71,28,72)\"], [0.25098039215686274, \"rgb(97,30,82)\"], [0.3137254901960784, \"rgb(123,30,89)\"], [0.3764705882352941, \"rgb(150,27,91)\"], [0.4392156862745098, \"rgb(177,22,88)\"], [0.5019607843137255, \"rgb(203,26,79)\"], [0.5647058823529412, \"rgb(223,47,67)\"], [0.6274509803921569, \"rgb(236,76,61)\"], [0.6901960784313725, \"rgb(242,107,73)\"], [0.7529411764705882, \"rgb(244,135,95)\"], [0.8156862745098039, \"rgb(245,162,122)\"], [0.8784313725490196, \"rgb(246,188,153)\"], [0.9411764705882353, \"rgb(247,212,187)\"], [1.0, \"rgb(250,234,220)\"]], \"type\": \"heatmap\"}], \"heatmapgl\": [{\"colorbar\": {\"outlinewidth\": 0, \"tickcolor\": \"rgb(36,36,36)\", \"ticklen\": 8, \"ticks\": \"outside\", \"tickwidth\": 2}, \"colorscale\": [[0.0, \"rgb(2,4,25)\"], [0.06274509803921569, \"rgb(24,15,41)\"], [0.12549019607843137, \"rgb(47,23,57)\"], [0.18823529411764706, \"rgb(71,28,72)\"], [0.25098039215686274, \"rgb(97,30,82)\"], [0.3137254901960784, \"rgb(123,30,89)\"], [0.3764705882352941, \"rgb(150,27,91)\"], [0.4392156862745098, \"rgb(177,22,88)\"], [0.5019607843137255, \"rgb(203,26,79)\"], [0.5647058823529412, \"rgb(223,47,67)\"], [0.6274509803921569, \"rgb(236,76,61)\"], [0.6901960784313725, \"rgb(242,107,73)\"], [0.7529411764705882, \"rgb(244,135,95)\"], [0.8156862745098039, \"rgb(245,162,122)\"], [0.8784313725490196, \"rgb(246,188,153)\"], [0.9411764705882353, \"rgb(247,212,187)\"], [1.0, \"rgb(250,234,220)\"]], \"type\": \"heatmapgl\"}], \"histogram\": [{\"marker\": {\"colorbar\": {\"outlinewidth\": 0, \"tickcolor\": \"rgb(36,36,36)\", \"ticklen\": 8, \"ticks\": \"outside\", \"tickwidth\": 2}}, \"type\": \"histogram\"}], \"histogram2d\": [{\"colorbar\": {\"outlinewidth\": 0, \"tickcolor\": \"rgb(36,36,36)\", \"ticklen\": 8, \"ticks\": \"outside\", \"tickwidth\": 2}, \"colorscale\": [[0.0, \"rgb(2,4,25)\"], [0.06274509803921569, \"rgb(24,15,41)\"], [0.12549019607843137, \"rgb(47,23,57)\"], [0.18823529411764706, \"rgb(71,28,72)\"], [0.25098039215686274, \"rgb(97,30,82)\"], [0.3137254901960784, \"rgb(123,30,89)\"], [0.3764705882352941, \"rgb(150,27,91)\"], [0.4392156862745098, \"rgb(177,22,88)\"], [0.5019607843137255, \"rgb(203,26,79)\"], [0.5647058823529412, \"rgb(223,47,67)\"], [0.6274509803921569, \"rgb(236,76,61)\"], [0.6901960784313725, \"rgb(242,107,73)\"], [0.7529411764705882, \"rgb(244,135,95)\"], [0.8156862745098039, \"rgb(245,162,122)\"], [0.8784313725490196, \"rgb(246,188,153)\"], [0.9411764705882353, \"rgb(247,212,187)\"], [1.0, \"rgb(250,234,220)\"]], \"type\": \"histogram2d\"}], \"histogram2dcontour\": [{\"colorbar\": {\"outlinewidth\": 0, \"tickcolor\": \"rgb(36,36,36)\", \"ticklen\": 8, \"ticks\": \"outside\", \"tickwidth\": 2}, \"colorscale\": [[0.0, \"rgb(2,4,25)\"], [0.06274509803921569, \"rgb(24,15,41)\"], [0.12549019607843137, \"rgb(47,23,57)\"], [0.18823529411764706, \"rgb(71,28,72)\"], [0.25098039215686274, \"rgb(97,30,82)\"], [0.3137254901960784, \"rgb(123,30,89)\"], [0.3764705882352941, \"rgb(150,27,91)\"], [0.4392156862745098, \"rgb(177,22,88)\"], [0.5019607843137255, \"rgb(203,26,79)\"], [0.5647058823529412, \"rgb(223,47,67)\"], [0.6274509803921569, \"rgb(236,76,61)\"], [0.6901960784313725, \"rgb(242,107,73)\"], [0.7529411764705882, \"rgb(244,135,95)\"], [0.8156862745098039, \"rgb(245,162,122)\"], [0.8784313725490196, \"rgb(246,188,153)\"], [0.9411764705882353, \"rgb(247,212,187)\"], [1.0, \"rgb(250,234,220)\"]], \"type\": \"histogram2dcontour\"}], \"mesh3d\": [{\"colorbar\": {\"outlinewidth\": 0, \"tickcolor\": \"rgb(36,36,36)\", \"ticklen\": 8, \"ticks\": \"outside\", \"tickwidth\": 2}, \"type\": \"mesh3d\"}], \"parcoords\": [{\"line\": {\"colorbar\": {\"outlinewidth\": 0, \"tickcolor\": \"rgb(36,36,36)\", \"ticklen\": 8, \"ticks\": \"outside\", \"tickwidth\": 2}}, \"type\": \"parcoords\"}], \"pie\": [{\"automargin\": true, \"type\": \"pie\"}], \"scatter\": [{\"marker\": {\"colorbar\": {\"outlinewidth\": 0, \"tickcolor\": \"rgb(36,36,36)\", \"ticklen\": 8, \"ticks\": \"outside\", \"tickwidth\": 2}}, \"type\": \"scatter\"}], \"scatter3d\": [{\"line\": {\"colorbar\": {\"outlinewidth\": 0, \"tickcolor\": \"rgb(36,36,36)\", \"ticklen\": 8, \"ticks\": \"outside\", \"tickwidth\": 2}}, \"marker\": {\"colorbar\": {\"outlinewidth\": 0, \"tickcolor\": \"rgb(36,36,36)\", \"ticklen\": 8, \"ticks\": \"outside\", \"tickwidth\": 2}}, \"type\": \"scatter3d\"}], \"scattercarpet\": [{\"marker\": {\"colorbar\": {\"outlinewidth\": 0, \"tickcolor\": \"rgb(36,36,36)\", \"ticklen\": 8, \"ticks\": \"outside\", \"tickwidth\": 2}}, \"type\": \"scattercarpet\"}], \"scattergeo\": [{\"marker\": {\"colorbar\": {\"outlinewidth\": 0, \"tickcolor\": \"rgb(36,36,36)\", \"ticklen\": 8, \"ticks\": \"outside\", \"tickwidth\": 2}}, \"type\": \"scattergeo\"}], \"scattergl\": [{\"marker\": {\"colorbar\": {\"outlinewidth\": 0, \"tickcolor\": \"rgb(36,36,36)\", \"ticklen\": 8, \"ticks\": \"outside\", \"tickwidth\": 2}}, \"type\": \"scattergl\"}], \"scattermapbox\": [{\"marker\": {\"colorbar\": {\"outlinewidth\": 0, \"tickcolor\": \"rgb(36,36,36)\", \"ticklen\": 8, \"ticks\": \"outside\", \"tickwidth\": 2}}, \"type\": \"scattermapbox\"}], \"scatterpolar\": [{\"marker\": {\"colorbar\": {\"outlinewidth\": 0, \"tickcolor\": \"rgb(36,36,36)\", \"ticklen\": 8, \"ticks\": \"outside\", \"tickwidth\": 2}}, \"type\": \"scatterpolar\"}], \"scatterpolargl\": [{\"marker\": {\"colorbar\": {\"outlinewidth\": 0, \"tickcolor\": \"rgb(36,36,36)\", \"ticklen\": 8, \"ticks\": \"outside\", \"tickwidth\": 2}}, \"type\": \"scatterpolargl\"}], \"scatterternary\": [{\"marker\": {\"colorbar\": {\"outlinewidth\": 0, \"tickcolor\": \"rgb(36,36,36)\", \"ticklen\": 8, \"ticks\": \"outside\", \"tickwidth\": 2}}, \"type\": \"scatterternary\"}], \"surface\": [{\"colorbar\": {\"outlinewidth\": 0, \"tickcolor\": \"rgb(36,36,36)\", \"ticklen\": 8, \"ticks\": \"outside\", \"tickwidth\": 2}, \"colorscale\": [[0.0, \"rgb(2,4,25)\"], [0.06274509803921569, \"rgb(24,15,41)\"], [0.12549019607843137, \"rgb(47,23,57)\"], [0.18823529411764706, \"rgb(71,28,72)\"], [0.25098039215686274, \"rgb(97,30,82)\"], [0.3137254901960784, \"rgb(123,30,89)\"], [0.3764705882352941, \"rgb(150,27,91)\"], [0.4392156862745098, \"rgb(177,22,88)\"], [0.5019607843137255, \"rgb(203,26,79)\"], [0.5647058823529412, \"rgb(223,47,67)\"], [0.6274509803921569, \"rgb(236,76,61)\"], [0.6901960784313725, \"rgb(242,107,73)\"], [0.7529411764705882, \"rgb(244,135,95)\"], [0.8156862745098039, \"rgb(245,162,122)\"], [0.8784313725490196, \"rgb(246,188,153)\"], [0.9411764705882353, \"rgb(247,212,187)\"], [1.0, \"rgb(250,234,220)\"]], \"type\": \"surface\"}], \"table\": [{\"cells\": {\"fill\": {\"color\": \"rgb(231,231,240)\"}, \"line\": {\"color\": \"white\"}}, \"header\": {\"fill\": {\"color\": \"rgb(183,183,191)\"}, \"line\": {\"color\": \"white\"}}, \"type\": \"table\"}]}, \"layout\": {\"annotationdefaults\": {\"arrowcolor\": \"rgb(67,103,167)\"}, \"coloraxis\": {\"colorbar\": {\"outlinewidth\": 0, \"tickcolor\": \"rgb(36,36,36)\", \"ticklen\": 8, \"ticks\": \"outside\", \"tickwidth\": 2}}, \"colorscale\": {\"sequential\": [[0.0, \"rgb(2,4,25)\"], [0.06274509803921569, \"rgb(24,15,41)\"], [0.12549019607843137, \"rgb(47,23,57)\"], [0.18823529411764706, \"rgb(71,28,72)\"], [0.25098039215686274, \"rgb(97,30,82)\"], [0.3137254901960784, \"rgb(123,30,89)\"], [0.3764705882352941, \"rgb(150,27,91)\"], [0.4392156862745098, \"rgb(177,22,88)\"], [0.5019607843137255, \"rgb(203,26,79)\"], [0.5647058823529412, \"rgb(223,47,67)\"], [0.6274509803921569, \"rgb(236,76,61)\"], [0.6901960784313725, \"rgb(242,107,73)\"], [0.7529411764705882, \"rgb(244,135,95)\"], [0.8156862745098039, \"rgb(245,162,122)\"], [0.8784313725490196, \"rgb(246,188,153)\"], [0.9411764705882353, \"rgb(247,212,187)\"], [1.0, \"rgb(250,234,220)\"]], \"sequentialminus\": [[0.0, \"rgb(2,4,25)\"], [0.06274509803921569, \"rgb(24,15,41)\"], [0.12549019607843137, \"rgb(47,23,57)\"], [0.18823529411764706, \"rgb(71,28,72)\"], [0.25098039215686274, \"rgb(97,30,82)\"], [0.3137254901960784, \"rgb(123,30,89)\"], [0.3764705882352941, \"rgb(150,27,91)\"], [0.4392156862745098, \"rgb(177,22,88)\"], [0.5019607843137255, \"rgb(203,26,79)\"], [0.5647058823529412, \"rgb(223,47,67)\"], [0.6274509803921569, \"rgb(236,76,61)\"], [0.6901960784313725, \"rgb(242,107,73)\"], [0.7529411764705882, \"rgb(244,135,95)\"], [0.8156862745098039, \"rgb(245,162,122)\"], [0.8784313725490196, \"rgb(246,188,153)\"], [0.9411764705882353, \"rgb(247,212,187)\"], [1.0, \"rgb(250,234,220)\"]]}, \"colorway\": [\"rgb(76,114,176)\", \"rgb(221,132,82)\", \"rgb(85,168,104)\", \"rgb(196,78,82)\", \"rgb(129,114,179)\", \"rgb(147,120,96)\", \"rgb(218,139,195)\", \"rgb(140,140,140)\", \"rgb(204,185,116)\", \"rgb(100,181,205)\"], \"font\": {\"color\": \"rgb(36,36,36)\"}, \"geo\": {\"bgcolor\": \"white\", \"lakecolor\": \"white\", \"landcolor\": \"rgb(234,234,242)\", \"showlakes\": true, \"showland\": true, \"subunitcolor\": \"white\"}, \"hoverlabel\": {\"align\": \"left\"}, \"hovermode\": \"closest\", \"paper_bgcolor\": \"white\", \"plot_bgcolor\": \"rgb(234,234,242)\", \"polar\": {\"angularaxis\": {\"gridcolor\": \"white\", \"linecolor\": \"white\", \"showgrid\": true, \"ticks\": \"\"}, \"bgcolor\": \"rgb(234,234,242)\", \"radialaxis\": {\"gridcolor\": \"white\", \"linecolor\": \"white\", \"showgrid\": true, \"ticks\": \"\"}}, \"scene\": {\"xaxis\": {\"backgroundcolor\": \"rgb(234,234,242)\", \"gridcolor\": \"white\", \"gridwidth\": 2, \"linecolor\": \"white\", \"showbackground\": true, \"showgrid\": true, \"ticks\": \"\", \"zerolinecolor\": \"white\"}, \"yaxis\": {\"backgroundcolor\": \"rgb(234,234,242)\", \"gridcolor\": \"white\", \"gridwidth\": 2, \"linecolor\": \"white\", \"showbackground\": true, \"showgrid\": true, \"ticks\": \"\", \"zerolinecolor\": \"white\"}, \"zaxis\": {\"backgroundcolor\": \"rgb(234,234,242)\", \"gridcolor\": \"white\", \"gridwidth\": 2, \"linecolor\": \"white\", \"showbackground\": true, \"showgrid\": true, \"ticks\": \"\", \"zerolinecolor\": \"white\"}}, \"shapedefaults\": {\"fillcolor\": \"rgb(67,103,167)\", \"line\": {\"width\": 0}, \"opacity\": 0.5}, \"ternary\": {\"aaxis\": {\"gridcolor\": \"white\", \"linecolor\": \"white\", \"showgrid\": true, \"ticks\": \"\"}, \"baxis\": {\"gridcolor\": \"white\", \"linecolor\": \"white\", \"showgrid\": true, \"ticks\": \"\"}, \"bgcolor\": \"rgb(234,234,242)\", \"caxis\": {\"gridcolor\": \"white\", \"linecolor\": \"white\", \"showgrid\": true, \"ticks\": \"\"}}, \"xaxis\": {\"automargin\": true, \"gridcolor\": \"white\", \"linecolor\": \"white\", \"showgrid\": true, \"ticks\": \"\", \"title\": {\"standoff\": 15}, \"zerolinecolor\": \"white\"}, \"yaxis\": {\"automargin\": true, \"gridcolor\": \"white\", \"linecolor\": \"white\", \"showgrid\": true, \"ticks\": \"\", \"title\": {\"standoff\": 15}, \"zerolinecolor\": \"white\"}}}, \"title\": {\"text\": \"Regression fit: Price vs Pie sales\"}, \"xaxis\": {\"anchor\": \"y\", \"domain\": [0.0, 1.0], \"title\": {\"text\": \"price\"}}, \"yaxis\": {\"anchor\": \"x\", \"domain\": [0.0, 1.0], \"title\": {\"text\": \"pie_sales\"}}},\n",
              "                        {\"responsive\": true}\n",
              "                    ).then(function(){\n",
              "                            \n",
              "var gd = document.getElementById('948b6c4d-66ed-417b-92f3-6b2b5813703a');\n",
              "var x = new MutationObserver(function (mutations, observer) {{\n",
              "        var display = window.getComputedStyle(gd).display;\n",
              "        if (!display || display === 'none') {{\n",
              "            console.log([gd, 'removed!']);\n",
              "            Plotly.purge(gd);\n",
              "            observer.disconnect();\n",
              "        }}\n",
              "}});\n",
              "\n",
              "// Listen for the removal of the full notebook cells\n",
              "var notebookContainer = gd.closest('#notebook-container');\n",
              "if (notebookContainer) {{\n",
              "    x.observe(notebookContainer, {childList: true});\n",
              "}}\n",
              "\n",
              "// Listen for the clearing of the current output cell\n",
              "var outputEl = gd.closest('.output');\n",
              "if (outputEl) {{\n",
              "    x.observe(outputEl, {childList: true});\n",
              "}}\n",
              "\n",
              "                        })\n",
              "                };\n",
              "                \n",
              "            </script>\n",
              "        </div>\n",
              "</body>\n",
              "</html>"
            ]
          },
          "metadata": {
            "tags": []
          }
        }
      ]
    },
    {
      "cell_type": "markdown",
      "metadata": {
        "id": "i1A804Qz8Ds3"
      },
      "source": [
        "## Advertising - Pie Sales"
      ]
    },
    {
      "cell_type": "code",
      "metadata": {
        "id": "JJpMb-fh8Qiq",
        "outputId": "45fee554-dd3f-41db-f497-c80c545207e5",
        "colab": {
          "base_uri": "https://localhost:8080/",
          "height": 542
        }
      },
      "source": [
        "advertising_piesales"
      ],
      "execution_count": 137,
      "outputs": [
        {
          "output_type": "display_data",
          "data": {
            "text/html": [
              "<html>\n",
              "<head><meta charset=\"utf-8\" /></head>\n",
              "<body>\n",
              "    <div>\n",
              "            <script src=\"https://cdnjs.cloudflare.com/ajax/libs/mathjax/2.7.5/MathJax.js?config=TeX-AMS-MML_SVG\"></script><script type=\"text/javascript\">if (window.MathJax) {MathJax.Hub.Config({SVG: {font: \"STIX-Web\"}});}</script>\n",
              "                <script type=\"text/javascript\">window.PlotlyConfig = {MathJaxConfig: 'local'};</script>\n",
              "        <script src=\"https://cdn.plot.ly/plotly-latest.min.js\"></script>    \n",
              "            <div id=\"27fa2b97-cb88-4879-a937-b65030e2caec\" class=\"plotly-graph-div\" style=\"height:525px; width:100%;\"></div>\n",
              "            <script type=\"text/javascript\">\n",
              "                \n",
              "                    window.PLOTLYENV=window.PLOTLYENV || {};\n",
              "                    \n",
              "                if (document.getElementById(\"27fa2b97-cb88-4879-a937-b65030e2caec\")) {\n",
              "                    Plotly.newPlot(\n",
              "                        '27fa2b97-cb88-4879-a937-b65030e2caec',\n",
              "                        [{\"hoverlabel\": {\"namelength\": 0}, \"hovertemplate\": \"advertising=%{x}<br>pie_sales=%{y}\", \"legendgroup\": \"\", \"marker\": {\"color\": \"rgb(76,114,176)\", \"symbol\": \"circle\"}, \"mode\": \"markers\", \"name\": \"\", \"showlegend\": false, \"type\": \"scatter\", \"x\": [3.3, 3.3, 3.0, 4.5, 3.0, 4.0, 3.0, 3.7, 3.5, 4.0, 3.5, 3.2, 4.0, 3.5, 2.7], \"xaxis\": \"x\", \"y\": [350, 460, 350, 430, 350, 380, 430, 470, 450, 490, 340, 300, 440, 450, 300], \"yaxis\": \"y\"}, {\"hoverlabel\": {\"namelength\": 0}, \"hovertemplate\": \"<b>OLS trendline</b><br>pie_sales = 72.308612 * advertising + 147.699362<br>R<sup>2</sup>=0.309492<br><br>advertising=%{x}<br>pie_sales=%{y} <b>(trend)</b>\", \"legendgroup\": \"\", \"line\": {\"color\": \"darkblue\"}, \"marker\": {\"color\": \"rgb(76,114,176)\", \"symbol\": \"circle\"}, \"mode\": \"lines\", \"name\": \"\", \"showlegend\": false, \"type\": \"scatter\", \"x\": [2.7, 3.0, 3.0, 3.0, 3.2, 3.3, 3.3, 3.5, 3.5, 3.5, 3.7, 4.0, 4.0, 4.0, 4.5], \"xaxis\": \"x\", \"y\": [342.932615629984, 364.62519936204137, 364.62519936204137, 364.62519936204137, 379.08692185007965, 386.31778309409873, 386.31778309409873, 400.779505582137, 400.779505582137, 400.779505582137, 415.2412280701753, 436.93381180223264, 436.93381180223264, 436.93381180223264, 473.0881180223283], \"yaxis\": \"y\"}],\n",
              "                        {\"legend\": {\"tracegroupgap\": 0}, \"template\": {\"data\": {\"bar\": [{\"error_x\": {\"color\": \"rgb(36,36,36)\"}, \"error_y\": {\"color\": \"rgb(36,36,36)\"}, \"marker\": {\"line\": {\"color\": \"rgb(234,234,242)\", \"width\": 0.5}}, \"type\": \"bar\"}], \"barpolar\": [{\"marker\": {\"line\": {\"color\": \"rgb(234,234,242)\", \"width\": 0.5}}, \"type\": \"barpolar\"}], \"carpet\": [{\"aaxis\": {\"endlinecolor\": \"rgb(36,36,36)\", \"gridcolor\": \"white\", \"linecolor\": \"white\", \"minorgridcolor\": \"white\", \"startlinecolor\": \"rgb(36,36,36)\"}, \"baxis\": {\"endlinecolor\": \"rgb(36,36,36)\", \"gridcolor\": \"white\", \"linecolor\": \"white\", \"minorgridcolor\": \"white\", \"startlinecolor\": \"rgb(36,36,36)\"}, \"type\": \"carpet\"}], \"choropleth\": [{\"colorbar\": {\"outlinewidth\": 0, \"tickcolor\": \"rgb(36,36,36)\", \"ticklen\": 8, \"ticks\": \"outside\", \"tickwidth\": 2}, \"type\": \"choropleth\"}], \"contour\": [{\"colorbar\": {\"outlinewidth\": 0, \"tickcolor\": \"rgb(36,36,36)\", \"ticklen\": 8, \"ticks\": \"outside\", \"tickwidth\": 2}, \"colorscale\": [[0.0, \"rgb(2,4,25)\"], [0.06274509803921569, \"rgb(24,15,41)\"], [0.12549019607843137, \"rgb(47,23,57)\"], [0.18823529411764706, \"rgb(71,28,72)\"], [0.25098039215686274, \"rgb(97,30,82)\"], [0.3137254901960784, \"rgb(123,30,89)\"], [0.3764705882352941, \"rgb(150,27,91)\"], [0.4392156862745098, \"rgb(177,22,88)\"], [0.5019607843137255, \"rgb(203,26,79)\"], [0.5647058823529412, \"rgb(223,47,67)\"], [0.6274509803921569, \"rgb(236,76,61)\"], [0.6901960784313725, \"rgb(242,107,73)\"], [0.7529411764705882, \"rgb(244,135,95)\"], [0.8156862745098039, \"rgb(245,162,122)\"], [0.8784313725490196, \"rgb(246,188,153)\"], [0.9411764705882353, \"rgb(247,212,187)\"], [1.0, \"rgb(250,234,220)\"]], \"type\": \"contour\"}], \"contourcarpet\": [{\"colorbar\": {\"outlinewidth\": 0, \"tickcolor\": \"rgb(36,36,36)\", \"ticklen\": 8, \"ticks\": \"outside\", \"tickwidth\": 2}, \"type\": \"contourcarpet\"}], \"heatmap\": [{\"colorbar\": {\"outlinewidth\": 0, \"tickcolor\": \"rgb(36,36,36)\", \"ticklen\": 8, \"ticks\": \"outside\", \"tickwidth\": 2}, \"colorscale\": [[0.0, \"rgb(2,4,25)\"], [0.06274509803921569, \"rgb(24,15,41)\"], [0.12549019607843137, \"rgb(47,23,57)\"], [0.18823529411764706, \"rgb(71,28,72)\"], [0.25098039215686274, \"rgb(97,30,82)\"], [0.3137254901960784, \"rgb(123,30,89)\"], [0.3764705882352941, \"rgb(150,27,91)\"], [0.4392156862745098, \"rgb(177,22,88)\"], [0.5019607843137255, \"rgb(203,26,79)\"], [0.5647058823529412, \"rgb(223,47,67)\"], [0.6274509803921569, \"rgb(236,76,61)\"], [0.6901960784313725, \"rgb(242,107,73)\"], [0.7529411764705882, \"rgb(244,135,95)\"], [0.8156862745098039, \"rgb(245,162,122)\"], [0.8784313725490196, \"rgb(246,188,153)\"], [0.9411764705882353, \"rgb(247,212,187)\"], [1.0, \"rgb(250,234,220)\"]], \"type\": \"heatmap\"}], \"heatmapgl\": [{\"colorbar\": {\"outlinewidth\": 0, \"tickcolor\": \"rgb(36,36,36)\", \"ticklen\": 8, \"ticks\": \"outside\", \"tickwidth\": 2}, \"colorscale\": [[0.0, \"rgb(2,4,25)\"], [0.06274509803921569, \"rgb(24,15,41)\"], [0.12549019607843137, \"rgb(47,23,57)\"], [0.18823529411764706, \"rgb(71,28,72)\"], [0.25098039215686274, \"rgb(97,30,82)\"], [0.3137254901960784, \"rgb(123,30,89)\"], [0.3764705882352941, \"rgb(150,27,91)\"], [0.4392156862745098, \"rgb(177,22,88)\"], [0.5019607843137255, \"rgb(203,26,79)\"], [0.5647058823529412, \"rgb(223,47,67)\"], [0.6274509803921569, \"rgb(236,76,61)\"], [0.6901960784313725, \"rgb(242,107,73)\"], [0.7529411764705882, \"rgb(244,135,95)\"], [0.8156862745098039, \"rgb(245,162,122)\"], [0.8784313725490196, \"rgb(246,188,153)\"], [0.9411764705882353, \"rgb(247,212,187)\"], [1.0, \"rgb(250,234,220)\"]], \"type\": \"heatmapgl\"}], \"histogram\": [{\"marker\": {\"colorbar\": {\"outlinewidth\": 0, \"tickcolor\": \"rgb(36,36,36)\", \"ticklen\": 8, \"ticks\": \"outside\", \"tickwidth\": 2}}, \"type\": \"histogram\"}], \"histogram2d\": [{\"colorbar\": {\"outlinewidth\": 0, \"tickcolor\": \"rgb(36,36,36)\", \"ticklen\": 8, \"ticks\": \"outside\", \"tickwidth\": 2}, \"colorscale\": [[0.0, \"rgb(2,4,25)\"], [0.06274509803921569, \"rgb(24,15,41)\"], [0.12549019607843137, \"rgb(47,23,57)\"], [0.18823529411764706, \"rgb(71,28,72)\"], [0.25098039215686274, \"rgb(97,30,82)\"], [0.3137254901960784, \"rgb(123,30,89)\"], [0.3764705882352941, \"rgb(150,27,91)\"], [0.4392156862745098, \"rgb(177,22,88)\"], [0.5019607843137255, \"rgb(203,26,79)\"], [0.5647058823529412, \"rgb(223,47,67)\"], [0.6274509803921569, \"rgb(236,76,61)\"], [0.6901960784313725, \"rgb(242,107,73)\"], [0.7529411764705882, \"rgb(244,135,95)\"], [0.8156862745098039, \"rgb(245,162,122)\"], [0.8784313725490196, \"rgb(246,188,153)\"], [0.9411764705882353, \"rgb(247,212,187)\"], [1.0, \"rgb(250,234,220)\"]], \"type\": \"histogram2d\"}], \"histogram2dcontour\": [{\"colorbar\": {\"outlinewidth\": 0, \"tickcolor\": \"rgb(36,36,36)\", \"ticklen\": 8, \"ticks\": \"outside\", \"tickwidth\": 2}, \"colorscale\": [[0.0, \"rgb(2,4,25)\"], [0.06274509803921569, \"rgb(24,15,41)\"], [0.12549019607843137, \"rgb(47,23,57)\"], [0.18823529411764706, \"rgb(71,28,72)\"], [0.25098039215686274, \"rgb(97,30,82)\"], [0.3137254901960784, \"rgb(123,30,89)\"], [0.3764705882352941, \"rgb(150,27,91)\"], [0.4392156862745098, \"rgb(177,22,88)\"], [0.5019607843137255, \"rgb(203,26,79)\"], [0.5647058823529412, \"rgb(223,47,67)\"], [0.6274509803921569, \"rgb(236,76,61)\"], [0.6901960784313725, \"rgb(242,107,73)\"], [0.7529411764705882, \"rgb(244,135,95)\"], [0.8156862745098039, \"rgb(245,162,122)\"], [0.8784313725490196, \"rgb(246,188,153)\"], [0.9411764705882353, \"rgb(247,212,187)\"], [1.0, \"rgb(250,234,220)\"]], \"type\": \"histogram2dcontour\"}], \"mesh3d\": [{\"colorbar\": {\"outlinewidth\": 0, \"tickcolor\": \"rgb(36,36,36)\", \"ticklen\": 8, \"ticks\": \"outside\", \"tickwidth\": 2}, \"type\": \"mesh3d\"}], \"parcoords\": [{\"line\": {\"colorbar\": {\"outlinewidth\": 0, \"tickcolor\": \"rgb(36,36,36)\", \"ticklen\": 8, \"ticks\": \"outside\", \"tickwidth\": 2}}, \"type\": \"parcoords\"}], \"pie\": [{\"automargin\": true, \"type\": \"pie\"}], \"scatter\": [{\"marker\": {\"colorbar\": {\"outlinewidth\": 0, \"tickcolor\": \"rgb(36,36,36)\", \"ticklen\": 8, \"ticks\": \"outside\", \"tickwidth\": 2}}, \"type\": \"scatter\"}], \"scatter3d\": [{\"line\": {\"colorbar\": {\"outlinewidth\": 0, \"tickcolor\": \"rgb(36,36,36)\", \"ticklen\": 8, \"ticks\": \"outside\", \"tickwidth\": 2}}, \"marker\": {\"colorbar\": {\"outlinewidth\": 0, \"tickcolor\": \"rgb(36,36,36)\", \"ticklen\": 8, \"ticks\": \"outside\", \"tickwidth\": 2}}, \"type\": \"scatter3d\"}], \"scattercarpet\": [{\"marker\": {\"colorbar\": {\"outlinewidth\": 0, \"tickcolor\": \"rgb(36,36,36)\", \"ticklen\": 8, \"ticks\": \"outside\", \"tickwidth\": 2}}, \"type\": \"scattercarpet\"}], \"scattergeo\": [{\"marker\": {\"colorbar\": {\"outlinewidth\": 0, \"tickcolor\": \"rgb(36,36,36)\", \"ticklen\": 8, \"ticks\": \"outside\", \"tickwidth\": 2}}, \"type\": \"scattergeo\"}], \"scattergl\": [{\"marker\": {\"colorbar\": {\"outlinewidth\": 0, \"tickcolor\": \"rgb(36,36,36)\", \"ticklen\": 8, \"ticks\": \"outside\", \"tickwidth\": 2}}, \"type\": \"scattergl\"}], \"scattermapbox\": [{\"marker\": {\"colorbar\": {\"outlinewidth\": 0, \"tickcolor\": \"rgb(36,36,36)\", \"ticklen\": 8, \"ticks\": \"outside\", \"tickwidth\": 2}}, \"type\": \"scattermapbox\"}], \"scatterpolar\": [{\"marker\": {\"colorbar\": {\"outlinewidth\": 0, \"tickcolor\": \"rgb(36,36,36)\", \"ticklen\": 8, \"ticks\": \"outside\", \"tickwidth\": 2}}, \"type\": \"scatterpolar\"}], \"scatterpolargl\": [{\"marker\": {\"colorbar\": {\"outlinewidth\": 0, \"tickcolor\": \"rgb(36,36,36)\", \"ticklen\": 8, \"ticks\": \"outside\", \"tickwidth\": 2}}, \"type\": \"scatterpolargl\"}], \"scatterternary\": [{\"marker\": {\"colorbar\": {\"outlinewidth\": 0, \"tickcolor\": \"rgb(36,36,36)\", \"ticklen\": 8, \"ticks\": \"outside\", \"tickwidth\": 2}}, \"type\": \"scatterternary\"}], \"surface\": [{\"colorbar\": {\"outlinewidth\": 0, \"tickcolor\": \"rgb(36,36,36)\", \"ticklen\": 8, \"ticks\": \"outside\", \"tickwidth\": 2}, \"colorscale\": [[0.0, \"rgb(2,4,25)\"], [0.06274509803921569, \"rgb(24,15,41)\"], [0.12549019607843137, \"rgb(47,23,57)\"], [0.18823529411764706, \"rgb(71,28,72)\"], [0.25098039215686274, \"rgb(97,30,82)\"], [0.3137254901960784, \"rgb(123,30,89)\"], [0.3764705882352941, \"rgb(150,27,91)\"], [0.4392156862745098, \"rgb(177,22,88)\"], [0.5019607843137255, \"rgb(203,26,79)\"], [0.5647058823529412, \"rgb(223,47,67)\"], [0.6274509803921569, \"rgb(236,76,61)\"], [0.6901960784313725, \"rgb(242,107,73)\"], [0.7529411764705882, \"rgb(244,135,95)\"], [0.8156862745098039, \"rgb(245,162,122)\"], [0.8784313725490196, \"rgb(246,188,153)\"], [0.9411764705882353, \"rgb(247,212,187)\"], [1.0, \"rgb(250,234,220)\"]], \"type\": \"surface\"}], \"table\": [{\"cells\": {\"fill\": {\"color\": \"rgb(231,231,240)\"}, \"line\": {\"color\": \"white\"}}, \"header\": {\"fill\": {\"color\": \"rgb(183,183,191)\"}, \"line\": {\"color\": \"white\"}}, \"type\": \"table\"}]}, \"layout\": {\"annotationdefaults\": {\"arrowcolor\": \"rgb(67,103,167)\"}, \"coloraxis\": {\"colorbar\": {\"outlinewidth\": 0, \"tickcolor\": \"rgb(36,36,36)\", \"ticklen\": 8, \"ticks\": \"outside\", \"tickwidth\": 2}}, \"colorscale\": {\"sequential\": [[0.0, \"rgb(2,4,25)\"], [0.06274509803921569, \"rgb(24,15,41)\"], [0.12549019607843137, \"rgb(47,23,57)\"], [0.18823529411764706, \"rgb(71,28,72)\"], [0.25098039215686274, \"rgb(97,30,82)\"], [0.3137254901960784, \"rgb(123,30,89)\"], [0.3764705882352941, \"rgb(150,27,91)\"], [0.4392156862745098, \"rgb(177,22,88)\"], [0.5019607843137255, \"rgb(203,26,79)\"], [0.5647058823529412, \"rgb(223,47,67)\"], [0.6274509803921569, \"rgb(236,76,61)\"], [0.6901960784313725, \"rgb(242,107,73)\"], [0.7529411764705882, \"rgb(244,135,95)\"], [0.8156862745098039, \"rgb(245,162,122)\"], [0.8784313725490196, \"rgb(246,188,153)\"], [0.9411764705882353, \"rgb(247,212,187)\"], [1.0, \"rgb(250,234,220)\"]], \"sequentialminus\": [[0.0, \"rgb(2,4,25)\"], [0.06274509803921569, \"rgb(24,15,41)\"], [0.12549019607843137, \"rgb(47,23,57)\"], [0.18823529411764706, \"rgb(71,28,72)\"], [0.25098039215686274, \"rgb(97,30,82)\"], [0.3137254901960784, \"rgb(123,30,89)\"], [0.3764705882352941, \"rgb(150,27,91)\"], [0.4392156862745098, \"rgb(177,22,88)\"], [0.5019607843137255, \"rgb(203,26,79)\"], [0.5647058823529412, \"rgb(223,47,67)\"], [0.6274509803921569, \"rgb(236,76,61)\"], [0.6901960784313725, \"rgb(242,107,73)\"], [0.7529411764705882, \"rgb(244,135,95)\"], [0.8156862745098039, \"rgb(245,162,122)\"], [0.8784313725490196, \"rgb(246,188,153)\"], [0.9411764705882353, \"rgb(247,212,187)\"], [1.0, \"rgb(250,234,220)\"]]}, \"colorway\": [\"rgb(76,114,176)\", \"rgb(221,132,82)\", \"rgb(85,168,104)\", \"rgb(196,78,82)\", \"rgb(129,114,179)\", \"rgb(147,120,96)\", \"rgb(218,139,195)\", \"rgb(140,140,140)\", \"rgb(204,185,116)\", \"rgb(100,181,205)\"], \"font\": {\"color\": \"rgb(36,36,36)\"}, \"geo\": {\"bgcolor\": \"white\", \"lakecolor\": \"white\", \"landcolor\": \"rgb(234,234,242)\", \"showlakes\": true, \"showland\": true, \"subunitcolor\": \"white\"}, \"hoverlabel\": {\"align\": \"left\"}, \"hovermode\": \"closest\", \"paper_bgcolor\": \"white\", \"plot_bgcolor\": \"rgb(234,234,242)\", \"polar\": {\"angularaxis\": {\"gridcolor\": \"white\", \"linecolor\": \"white\", \"showgrid\": true, \"ticks\": \"\"}, \"bgcolor\": \"rgb(234,234,242)\", \"radialaxis\": {\"gridcolor\": \"white\", \"linecolor\": \"white\", \"showgrid\": true, \"ticks\": \"\"}}, \"scene\": {\"xaxis\": {\"backgroundcolor\": \"rgb(234,234,242)\", \"gridcolor\": \"white\", \"gridwidth\": 2, \"linecolor\": \"white\", \"showbackground\": true, \"showgrid\": true, \"ticks\": \"\", \"zerolinecolor\": \"white\"}, \"yaxis\": {\"backgroundcolor\": \"rgb(234,234,242)\", \"gridcolor\": \"white\", \"gridwidth\": 2, \"linecolor\": \"white\", \"showbackground\": true, \"showgrid\": true, \"ticks\": \"\", \"zerolinecolor\": \"white\"}, \"zaxis\": {\"backgroundcolor\": \"rgb(234,234,242)\", \"gridcolor\": \"white\", \"gridwidth\": 2, \"linecolor\": \"white\", \"showbackground\": true, \"showgrid\": true, \"ticks\": \"\", \"zerolinecolor\": \"white\"}}, \"shapedefaults\": {\"fillcolor\": \"rgb(67,103,167)\", \"line\": {\"width\": 0}, \"opacity\": 0.5}, \"ternary\": {\"aaxis\": {\"gridcolor\": \"white\", \"linecolor\": \"white\", \"showgrid\": true, \"ticks\": \"\"}, \"baxis\": {\"gridcolor\": \"white\", \"linecolor\": \"white\", \"showgrid\": true, \"ticks\": \"\"}, \"bgcolor\": \"rgb(234,234,242)\", \"caxis\": {\"gridcolor\": \"white\", \"linecolor\": \"white\", \"showgrid\": true, \"ticks\": \"\"}}, \"xaxis\": {\"automargin\": true, \"gridcolor\": \"white\", \"linecolor\": \"white\", \"showgrid\": true, \"ticks\": \"\", \"title\": {\"standoff\": 15}, \"zerolinecolor\": \"white\"}, \"yaxis\": {\"automargin\": true, \"gridcolor\": \"white\", \"linecolor\": \"white\", \"showgrid\": true, \"ticks\": \"\", \"title\": {\"standoff\": 15}, \"zerolinecolor\": \"white\"}}}, \"title\": {\"text\": \"Regression fit: Advertising vs Pie sales\"}, \"xaxis\": {\"anchor\": \"y\", \"domain\": [0.0, 1.0], \"title\": {\"text\": \"advertising\"}}, \"yaxis\": {\"anchor\": \"x\", \"domain\": [0.0, 1.0], \"title\": {\"text\": \"pie_sales\"}}},\n",
              "                        {\"responsive\": true}\n",
              "                    ).then(function(){\n",
              "                            \n",
              "var gd = document.getElementById('27fa2b97-cb88-4879-a937-b65030e2caec');\n",
              "var x = new MutationObserver(function (mutations, observer) {{\n",
              "        var display = window.getComputedStyle(gd).display;\n",
              "        if (!display || display === 'none') {{\n",
              "            console.log([gd, 'removed!']);\n",
              "            Plotly.purge(gd);\n",
              "            observer.disconnect();\n",
              "        }}\n",
              "}});\n",
              "\n",
              "// Listen for the removal of the full notebook cells\n",
              "var notebookContainer = gd.closest('#notebook-container');\n",
              "if (notebookContainer) {{\n",
              "    x.observe(notebookContainer, {childList: true});\n",
              "}}\n",
              "\n",
              "// Listen for the clearing of the current output cell\n",
              "var outputEl = gd.closest('.output');\n",
              "if (outputEl) {{\n",
              "    x.observe(outputEl, {childList: true});\n",
              "}}\n",
              "\n",
              "                        })\n",
              "                };\n",
              "                \n",
              "            </script>\n",
              "        </div>\n",
              "</body>\n",
              "</html>"
            ]
          },
          "metadata": {
            "tags": []
          }
        }
      ]
    },
    {
      "cell_type": "markdown",
      "metadata": {
        "id": "qa__T9EoZRAG"
      },
      "source": [
        "# Feature Selection\n",
        "\n",
        "Di sini, akan dilakukan pemilihan fitur/kolom agar model regresi yang dihasilkan lebih merepresentasikan sebaran data yang sebenarnya. Atau dengan kata lain, untuk menghasilkan model regresi yang kuat.\n",
        "\n",
        "Pada kolom `week`, sebenarnya terdapat relasi linear dengan arah negatif. Akan tetapi sangat lemah, dengan R square = 0,0046. Oleh karena itu, kolom ini tidak akan diikutkan dalam model.\n",
        "\n",
        "Kolom `price`, dapat diikutkan ke dalam pembangunan model walaupun dengan R Square 0,196 dan berelasi linear dengan arah negatif.\n",
        "\n",
        "`advertising` memiliki hubungan linear yang lebih tinggi terhadap pie_sales dengan angka R square 0,309 dan berarah positif. Yang artinya, semakin tinggi pengeluaran untuk promosi, maka akan naik pula total penjualannya. Walaupun dengan kenaikan yang tidak terlalu tinggi.\n",
        "\n",
        "Jadi, variabel-variabel independen yang akan dilibatkan dalam pembangunan model adalah `price` dan `advertising`."
      ]
    },
    {
      "cell_type": "markdown",
      "metadata": {
        "id": "ZtJSmys1v2Yd"
      },
      "source": [
        "# Split Data (Independent(Xs) dan Dependent(y))\n",
        "\n",
        "Dataset akan dibagi menjadi data training dan data testing. Proporsi pembagiannya adalah 25% akan digunakan sebagai data testing, sisanya untuk data training. \n",
        "\n",
        "Data training digunakan dalam pembuatan model regresi, sedangkan data testing digunakan sebagai data uji keakuratan model yang dihasilkan."
      ]
    },
    {
      "cell_type": "code",
      "metadata": {
        "id": "gKwbxSK0-GHE"
      },
      "source": [
        "y = df['pie_sales']\n",
        "X = df[['price','advertising']]\n",
        "\n",
        "from sklearn.model_selection import train_test_split\n",
        "X_train, X_test, y_train, y_test = train_test_split(X, y, test_size = 0.25)"
      ],
      "execution_count": 103,
      "outputs": []
    },
    {
      "cell_type": "markdown",
      "metadata": {
        "id": "ZmdXHftqv8a8"
      },
      "source": [
        "# Model Training"
      ]
    },
    {
      "cell_type": "markdown",
      "metadata": {
        "id": "7SKKmr4c_9zT"
      },
      "source": [
        "## Menggunakan Scikit-learn LinearRegression"
      ]
    },
    {
      "cell_type": "code",
      "metadata": {
        "id": "eEhkKWy8_cjp",
        "outputId": "72d1528f-1f09-4d13-fe56-18b150f7c665",
        "colab": {
          "base_uri": "https://localhost:8080/",
          "height": 35
        }
      },
      "source": [
        "regressor = LinearRegression(fit_intercept = True)\n",
        "regressor.fit(X_train,y_train)"
      ],
      "execution_count": 104,
      "outputs": [
        {
          "output_type": "execute_result",
          "data": {
            "text/plain": [
              "LinearRegression(copy_X=True, fit_intercept=True, n_jobs=None, normalize=False)"
            ]
          },
          "metadata": {
            "tags": []
          },
          "execution_count": 104
        }
      ]
    },
    {
      "cell_type": "code",
      "metadata": {
        "id": "0lLA4GmK_uUz",
        "outputId": "0feaf1c9-79c0-4286-ed07-392730c1f9f7",
        "colab": {
          "base_uri": "https://localhost:8080/",
          "height": 52
        }
      },
      "source": [
        "print('Coefficient (slope) = ', regressor.coef_)\n",
        "print('Intercept = ', regressor.intercept_)"
      ],
      "execution_count": 142,
      "outputs": [
        {
          "output_type": "stream",
          "text": [
            "Coefficient (slope) =  [-26.17250718  75.66278583]\n",
            "Intercept =  306.0709478818248\n"
          ],
          "name": "stdout"
        }
      ]
    },
    {
      "cell_type": "markdown",
      "metadata": {
        "id": "dzROZBY4dnUj"
      },
      "source": [
        "Koefisien-koefisien slope/kemiringan garis yang dihasilkan oleh model adalah -26.17250718 dan 75.66278583 serta intersep 306.0709478818248.\n",
        "\n",
        "Formula Multiple linear regression:\n",
        "\n",
        "![mlr.PNG](data:image/png;base64,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)\n",
        "\n"
      ]
    },
    {
      "cell_type": "markdown",
      "metadata": {
        "id": "NnohJks3eg41"
      },
      "source": [
        "Jika koefisien-koefisien tersebut disubtitusi ke dalam formula, maka model yang dihasilkan memiliki formula:\n",
        "\n",
        "y = 306.07 - 26.17*x1 + 75.66*x2\n",
        "\n",
        "Jika diinterpretasikan lebih lanjut, harga 1 unit x1 berada pada angka -26.17. Sedangkan harga 1 unit x2 berada pada angka 75.66."
      ]
    },
    {
      "cell_type": "markdown",
      "metadata": {
        "id": "w-HD-JuQACri"
      },
      "source": [
        "## Menggunakan Statsmodels\n",
        " Selain dengan menggunakan library scikit-learn, model juga dapat dihasilkan dengan statsmodel.api:"
      ]
    },
    {
      "cell_type": "code",
      "metadata": {
        "id": "nr0nVkGKAOCU",
        "outputId": "3cae3698-14ed-4c78-eefb-c942ca86f6e3",
        "colab": {
          "base_uri": "https://localhost:8080/",
          "height": 537
        }
      },
      "source": [
        "X = sm.add_constant(X)\n",
        "\n",
        "model = sm.OLS(y, X).fit()\n",
        "predictions = model.predict(X) \n",
        "\n",
        "print_model = model.summary()\n",
        "print(print_model)"
      ],
      "execution_count": 45,
      "outputs": [
        {
          "output_type": "stream",
          "text": [
            "                            OLS Regression Results                            \n",
            "==============================================================================\n",
            "Dep. Variable:              pie_sales   R-squared:                       0.521\n",
            "Model:                            OLS   Adj. R-squared:                  0.442\n",
            "Method:                 Least Squares   F-statistic:                     6.539\n",
            "Date:                Fri, 23 Oct 2020   Prob (F-statistic):             0.0120\n",
            "Time:                        15:09:16   Log-Likelihood:                -77.510\n",
            "No. Observations:                  15   AIC:                             161.0\n",
            "Df Residuals:                      12   BIC:                             163.1\n",
            "Df Model:                           2                                         \n",
            "Covariance Type:            nonrobust                                         \n",
            "===============================================================================\n",
            "                  coef    std err          t      P>|t|      [0.025      0.975]\n",
            "-------------------------------------------------------------------------------\n",
            "const         306.5262    114.254      2.683      0.020      57.588     555.464\n",
            "price         -24.9751     10.832     -2.306      0.040     -48.576      -1.374\n",
            "advertising    74.1310     25.967      2.855      0.014      17.553     130.709\n",
            "==============================================================================\n",
            "Omnibus:                        1.505   Durbin-Watson:                   1.683\n",
            "Prob(Omnibus):                  0.471   Jarque-Bera (JB):                0.937\n",
            "Skew:                           0.595   Prob(JB):                        0.626\n",
            "Kurtosis:                       2.709   Cond. No.                         72.2\n",
            "==============================================================================\n",
            "\n",
            "Warnings:\n",
            "[1] Standard Errors assume that the covariance matrix of the errors is correctly specified.\n"
          ],
          "name": "stdout"
        },
        {
          "output_type": "stream",
          "text": [
            "/usr/local/lib/python3.6/dist-packages/scipy/stats/stats.py:1535: UserWarning:\n",
            "\n",
            "kurtosistest only valid for n>=20 ... continuing anyway, n=15\n",
            "\n"
          ],
          "name": "stderr"
        }
      ]
    },
    {
      "cell_type": "markdown",
      "metadata": {
        "id": "E8DkiA1cgiEB"
      },
      "source": [
        "Model regresi yang dihasilkan oleh statmodel.api adalah\n",
        "\n",
        "y = 306.52 - 24.97*x1 + 74.13*x2\n",
        "\n",
        "Dengan R square 0.52.\n",
        "\n"
      ]
    },
    {
      "cell_type": "markdown",
      "metadata": {
        "id": "4rDTqONTv_YD"
      },
      "source": [
        "# Evaluasi Model (Scikit-learn)"
      ]
    },
    {
      "cell_type": "markdown",
      "metadata": {
        "id": "NCeZuQOchcNS"
      },
      "source": [
        "Melakukan prediksi `pie_sales`(y_test) pada X_test:"
      ]
    },
    {
      "cell_type": "code",
      "metadata": {
        "id": "VrzxUvlYA47q"
      },
      "source": [
        "y_predict = regressor.predict(X_test)"
      ],
      "execution_count": 144,
      "outputs": []
    },
    {
      "cell_type": "markdown",
      "metadata": {
        "id": "vsZu5qXYhmrn"
      },
      "source": [
        "Bandingkan terhadap data aktual pada y_test:"
      ]
    },
    {
      "cell_type": "code",
      "metadata": {
        "id": "htyC-EQ6BG6y",
        "outputId": "7455691b-8e4f-4bc6-98fa-7b811beb46ca",
        "colab": {
          "base_uri": "https://localhost:8080/",
          "height": 104
        }
      },
      "source": [
        "y_test"
      ],
      "execution_count": 145,
      "outputs": [
        {
          "output_type": "execute_result",
          "data": {
            "text/plain": [
              "14    300\n",
              "1     460\n",
              "6     430\n",
              "10    340\n",
              "Name: pie_sales, dtype: int64"
            ]
          },
          "metadata": {
            "tags": []
          },
          "execution_count": 145
        }
      ]
    },
    {
      "cell_type": "markdown",
      "metadata": {
        "id": "_91ETl3NhsQp"
      },
      "source": [
        "Dalam dataframe:"
      ]
    },
    {
      "cell_type": "code",
      "metadata": {
        "id": "_W9VaVczhvOT",
        "outputId": "c79e2587-7f92-4585-a209-34834d449e9d",
        "colab": {
          "base_uri": "https://localhost:8080/",
          "height": 171
        }
      },
      "source": [
        "pd.DataFrame({\n",
        "    'pred':y_predict,\n",
        "    'actual':y_test\n",
        "})"
      ],
      "execution_count": 143,
      "outputs": [
        {
          "output_type": "execute_result",
          "data": {
            "text/html": [
              "<div>\n",
              "<style scoped>\n",
              "    .dataframe tbody tr th:only-of-type {\n",
              "        vertical-align: middle;\n",
              "    }\n",
              "\n",
              "    .dataframe tbody tr th {\n",
              "        vertical-align: top;\n",
              "    }\n",
              "\n",
              "    .dataframe thead th {\n",
              "        text-align: right;\n",
              "    }\n",
              "</style>\n",
              "<table border=\"1\" class=\"dataframe\">\n",
              "  <thead>\n",
              "    <tr style=\"text-align: right;\">\n",
              "      <th></th>\n",
              "      <th>pred</th>\n",
              "      <th>actual</th>\n",
              "    </tr>\n",
              "  </thead>\n",
              "  <tbody>\n",
              "    <tr>\n",
              "      <th>14</th>\n",
              "      <td>327.152919</td>\n",
              "      <td>300</td>\n",
              "    </tr>\n",
              "    <tr>\n",
              "      <th>1</th>\n",
              "      <td>359.464337</td>\n",
              "      <td>460</td>\n",
              "    </tr>\n",
              "    <tr>\n",
              "      <th>6</th>\n",
              "      <td>415.283023</td>\n",
              "      <td>430</td>\n",
              "    </tr>\n",
              "    <tr>\n",
              "      <th>10</th>\n",
              "      <td>382.448647</td>\n",
              "      <td>340</td>\n",
              "    </tr>\n",
              "  </tbody>\n",
              "</table>\n",
              "</div>"
            ],
            "text/plain": [
              "          pred  actual\n",
              "14  327.152919     300\n",
              "1   359.464337     460\n",
              "6   415.283023     430\n",
              "10  382.448647     340"
            ]
          },
          "metadata": {
            "tags": []
          },
          "execution_count": 143
        }
      ]
    },
    {
      "cell_type": "markdown",
      "metadata": {
        "id": "8eu7AtrLiFK1"
      },
      "source": [
        "Dapat dilihat, model dapat melakukan prediksi dari model yang dihasilkan pada metode yang ada pada Scikit-learn. Namun, sepertinya model yang dihasilkan masih lemah. Salah satu sebabnya adalah adalah jumlah data yang tidak besar.\n",
        "\n",
        "Menurut *machine learning algorithm map* pada scikit-learn, dibutuhkan setidaknya 51 jumlah row data agar dapat menghasilkan model yang lebih optimal.\n",
        "\n",
        "Jika divisualisasikan:"
      ]
    },
    {
      "cell_type": "code",
      "metadata": {
        "id": "YM0Sdm-4BTcy",
        "outputId": "d87de3d7-6d0a-4c28-f18f-2c1a637887f8",
        "colab": {
          "base_uri": "https://localhost:8080/",
          "height": 295
        }
      },
      "source": [
        "plt.scatter(y_test, y_predict, color = 'r')\n",
        "plt.ylabel('Prediksi')\n",
        "plt.xlabel('Aktual')\n",
        "plt.title('Prediksi vs Aktual');"
      ],
      "execution_count": 108,
      "outputs": [
        {
          "output_type": "display_data",
          "data": {
            "image/png": "[encoded data removed]",
            "text/plain": [
              "<Figure size 432x288 with 1 Axes>"
            ]
          },
          "metadata": {
            "tags": [],
            "needs_background": "light"
          }
        }
      ]
    },
    {
      "cell_type": "markdown",
      "metadata": {
        "id": "3gNU0tfKvW3M"
      },
      "source": [
        "## Evaluation Metrics\n",
        "\n",
        "Akan digunakan RMSE dan R square."
      ]
    },
    {
      "cell_type": "code",
      "metadata": {
        "id": "P5k6r6xvBtP5"
      },
      "source": [
        "from sklearn.metrics import r2_score, mean_squared_error\n",
        "from math import sqrt\n",
        "\n",
        "RMSE = float(format(np.sqrt(mean_squared_error(y_test, y_predict)) , '.3f'))\n",
        "MSE = mean_squared_error(y_test, y_predict)\n",
        "r2 = r2_score(y_test, y_predict)"
      ],
      "execution_count": 149,
      "outputs": []
    },
    {
      "cell_type": "code",
      "metadata": {
        "id": "Y3nKBUAkB5OZ",
        "outputId": "5ee79a40-75d6-41a1-e64e-994a4157d108",
        "colab": {
          "base_uri": "https://localhost:8080/",
          "height": 69
        }
      },
      "source": [
        "print('RMSE = ', RMSE, '\\nMSE =', MSE , '\\nR2 =', r2)"
      ],
      "execution_count": 150,
      "outputs": [
        {
          "output_type": "stream",
          "text": [
            "RMSE =  56.708 \n",
            "MSE = 3215.7943794485604 \n",
            "R2 = 0.237737628575156\n"
          ],
          "name": "stdout"
        }
      ]
    },
    {
      "cell_type": "markdown",
      "metadata": {
        "id": "QOIs_G78ufqo"
      },
      "source": [
        "RMSE menghitung seberapa jauh residual/error yang dihasilkan dari selisih hasil titik aktual dan prediksi yang dihasilkan oleh model. Karena yang diharapkan adalah model yang dihasilkan memiliki selisih jarak yang minim, maka semakin kecil nilai RMSE, maka akan semakin baik model tersebut.\n",
        "\n",
        "Jika RMSE merupakan standar deviasi dari residual, maka MSE merupakan variansi dari residual. Serupa dengan RMSE, namun MSE berada dalam satuan unit yang berbeda dengan satuan unit pada nilai pada data yang sesungguhnya.\n",
        "\n",
        "R square berada pada rentang 0-1 yang menunjukkan seberapa terwakilkan/terepresentasikan suatu model dengan sebaran data yang sesungguhnya. Semakin mendekati 1, maka semakin baik. Nilai R2 yang dihasilkan lebih buruk daripada R2 pada statsmodel. Hal ini dapat disebabkan karena pada metode scikit learn, dataset telah dibagi menjadi data training dan data testing sehingga jumlah data yang diproses sebagai model berkurang. Berbeda dengan model pada statsmodel yang menggunakan keseluruhan data.\n",
        "\n"
      ]
    },
    {
      "cell_type": "markdown",
      "metadata": {
        "id": "auQ6sL0rwG7i"
      },
      "source": [
        "# Visualisasi Hasil\n",
        "\n",
        "Jika divisualisasikan dalam bentuk 3D:"
      ]
    },
    {
      "cell_type": "code",
      "metadata": {
        "id": "PH5pqHd0COkE"
      },
      "source": [
        "from mpl_toolkits.mplot3d import Axes3D\n",
        "x_surf, y_surf = np.meshgrid(np.linspace(df['advertising'].min(),\n",
        "                                         df['price'].max(), 10),  \n",
        "                                         np.linspace(df['advertising'].min(), \n",
        "                                                     df['price'].max(), 10))"
      ],
      "execution_count": 187,
      "outputs": []
    },
    {
      "cell_type": "code",
      "metadata": {
        "id": "il17JhWgCn0D"
      },
      "source": [
        "onlyX = pd.DataFrame({'advertising': x_surf.ravel(), 'price':y_surf.ravel()} ) \n",
        "fittedY = regressor.predict(onlyX)\n",
        "fittedY = fittedY.reshape(x_surf.shape)"
      ],
      "execution_count": 188,
      "outputs": []
    },
    {
      "cell_type": "code",
      "metadata": {
        "id": "H_I-cb8sLR5K",
        "outputId": "767b2e04-b3c3-4853-8bf6-f385642262f1",
        "colab": {
          "base_uri": "https://localhost:8080/",
          "height": 265
        }
      },
      "source": [
        "fig = plt.figure()\n",
        "ax = fig.add_subplot(111, projection = '3d')\n",
        "ax.scatter(df['advertising'], df['price'] , df['pie_sales'] , c = 'blue', marker ='x')\n",
        "ax.plot_surface(x_surf, y_surf, fittedY, color = 'red', alpha = 0.3)\n",
        "ax.set_xlabel('Advertising')\n",
        "ax.set_ylabel('Price')\n",
        "ax.set_zlabel('Pie Sales')"
      ],
      "execution_count": 189,
      "outputs": [
        {
          "output_type": "execute_result",
          "data": {
            "text/plain": [
              "Text(0.5, 0, 'Pie Sales')"
            ]
          },
          "metadata": {
            "tags": []
          },
          "execution_count": 189
        },
        {
          "output_type": "display_data",
          "data": {
            "image/png": "[encoded data removed]",
            "text/plain": [
              "<Figure size 432x288 with 1 Axes>"
            ]
          },
          "metadata": {
            "tags": [],
            "needs_background": "light"
          }
        }
      ]
    },
    {
      "cell_type": "markdown",
      "metadata": {
        "id": "SRPn1yz4k-Rn"
      },
      "source": [
        "# Prediksi data di luar dataset"
      ]
    },
    {
      "cell_type": "code",
      "metadata": {
        "id": "F-xExkNelash",
        "outputId": "547d40e9-fc3c-4fad-996b-e0a866a26ec4",
        "colab": {
          "base_uri": "https://localhost:8080/",
          "height": 52
        }
      },
      "source": [
        "np.linspace(df['price'].min(),df['price'].max(),10)"
      ],
      "execution_count": 170,
      "outputs": [
        {
          "output_type": "execute_result",
          "data": {
            "text/plain": [
              "array([4.5       , 4.88888889, 5.27777778, 5.66666667, 6.05555556,\n",
              "       6.44444444, 6.83333333, 7.22222222, 7.61111111, 8.        ])"
            ]
          },
          "metadata": {
            "tags": []
          },
          "execution_count": 170
        }
      ]
    },
    {
      "cell_type": "code",
      "metadata": {
        "id": "eQ88Rx5Ql_AZ",
        "outputId": "8b499c93-cc9c-44b0-ec4a-eafe44524e39",
        "colab": {
          "base_uri": "https://localhost:8080/",
          "height": 35
        }
      },
      "source": [
        "np.linspace(df['advertising'].min(),df['advertising'].max(),10)"
      ],
      "execution_count": 168,
      "outputs": [
        {
          "output_type": "execute_result",
          "data": {
            "text/plain": [
              "array([2.7, 2.9, 3.1, 3.3, 3.5, 3.7, 3.9, 4.1, 4.3, 4.5])"
            ]
          },
          "metadata": {
            "tags": []
          },
          "execution_count": 168
        }
      ]
    },
    {
      "cell_type": "code",
      "metadata": {
        "id": "bzq2Ir10mVgH"
      },
      "source": [
        "df_for_pred = pd.DataFrame({\n",
        "    'price' : np.linspace(df['price'].min(),df['price'].max(),10),\n",
        "    'advertising': np.linspace(df['advertising'].min(),df['advertising'].max(),10)\n",
        "})"
      ],
      "execution_count": 175,
      "outputs": []
    },
    {
      "cell_type": "code",
      "metadata": {
        "id": "KbZI3f4Amrly",
        "outputId": "efdc1d41-ff60-4413-a441-ab20700d9cef",
        "colab": {
          "base_uri": "https://localhost:8080/",
          "height": 355
        }
      },
      "source": [
        "df_for_pred"
      ],
      "execution_count": 176,
      "outputs": [
        {
          "output_type": "execute_result",
          "data": {
            "text/html": [
              "<div>\n",
              "<style scoped>\n",
              "    .dataframe tbody tr th:only-of-type {\n",
              "        vertical-align: middle;\n",
              "    }\n",
              "\n",
              "    .dataframe tbody tr th {\n",
              "        vertical-align: top;\n",
              "    }\n",
              "\n",
              "    .dataframe thead th {\n",
              "        text-align: right;\n",
              "    }\n",
              "</style>\n",
              "<table border=\"1\" class=\"dataframe\">\n",
              "  <thead>\n",
              "    <tr style=\"text-align: right;\">\n",
              "      <th></th>\n",
              "      <th>price</th>\n",
              "      <th>advertising</th>\n",
              "    </tr>\n",
              "  </thead>\n",
              "  <tbody>\n",
              "    <tr>\n",
              "      <th>0</th>\n",
              "      <td>4.500000</td>\n",
              "      <td>2.7</td>\n",
              "    </tr>\n",
              "    <tr>\n",
              "      <th>1</th>\n",
              "      <td>4.888889</td>\n",
              "      <td>2.9</td>\n",
              "    </tr>\n",
              "    <tr>\n",
              "      <th>2</th>\n",
              "      <td>5.277778</td>\n",
              "      <td>3.1</td>\n",
              "    </tr>\n",
              "    <tr>\n",
              "      <th>3</th>\n",
              "      <td>5.666667</td>\n",
              "      <td>3.3</td>\n",
              "    </tr>\n",
              "    <tr>\n",
              "      <th>4</th>\n",
              "      <td>6.055556</td>\n",
              "      <td>3.5</td>\n",
              "    </tr>\n",
              "    <tr>\n",
              "      <th>5</th>\n",
              "      <td>6.444444</td>\n",
              "      <td>3.7</td>\n",
              "    </tr>\n",
              "    <tr>\n",
              "      <th>6</th>\n",
              "      <td>6.833333</td>\n",
              "      <td>3.9</td>\n",
              "    </tr>\n",
              "    <tr>\n",
              "      <th>7</th>\n",
              "      <td>7.222222</td>\n",
              "      <td>4.1</td>\n",
              "    </tr>\n",
              "    <tr>\n",
              "      <th>8</th>\n",
              "      <td>7.611111</td>\n",
              "      <td>4.3</td>\n",
              "    </tr>\n",
              "    <tr>\n",
              "      <th>9</th>\n",
              "      <td>8.000000</td>\n",
              "      <td>4.5</td>\n",
              "    </tr>\n",
              "  </tbody>\n",
              "</table>\n",
              "</div>"
            ],
            "text/plain": [
              "      price  advertising\n",
              "0  4.500000          2.7\n",
              "1  4.888889          2.9\n",
              "2  5.277778          3.1\n",
              "3  5.666667          3.3\n",
              "4  6.055556          3.5\n",
              "5  6.444444          3.7\n",
              "6  6.833333          3.9\n",
              "7  7.222222          4.1\n",
              "8  7.611111          4.3\n",
              "9  8.000000          4.5"
            ]
          },
          "metadata": {
            "tags": []
          },
          "execution_count": 176
        }
      ]
    },
    {
      "cell_type": "markdown",
      "metadata": {
        "id": "9n97TDMGnGZv"
      },
      "source": [
        "Hasil prediksi `pie_sale` berdasarkan `df_for_pred`:"
      ]
    },
    {
      "cell_type": "code",
      "metadata": {
        "id": "cmFs5EYcms6s",
        "outputId": "71b03b5c-fcf3-4e38-a6f1-21c926d52234",
        "colab": {
          "base_uri": "https://localhost:8080/",
          "height": 69
        }
      },
      "source": [
        "regressor.predict(df_for_pred)"
      ],
      "execution_count": 177,
      "outputs": [
        {
          "output_type": "execute_result",
          "data": {
            "text/plain": [
              "array([392.58418731, 397.53854724, 402.49290717, 407.4472671 ,\n",
              "       412.40162703, 417.35598696, 422.31034689, 427.26470682,\n",
              "       432.21906675, 437.17342667])"
            ]
          },
          "metadata": {
            "tags": []
          },
          "execution_count": 177
        }
      ]
    },
    {
      "cell_type": "markdown",
      "metadata": {
        "id": "45ukm8sYnUXT"
      },
      "source": [
        "Dalam bentuk dataframe:"
      ]
    },
    {
      "cell_type": "code",
      "metadata": {
        "id": "fB94nBx6nXX7",
        "outputId": "9489880d-c633-42a6-e972-6fff4317df3d",
        "colab": {
          "base_uri": "https://localhost:8080/",
          "height": 355
        }
      },
      "source": [
        "pd.DataFrame({\n",
        "    'price' : np.linspace(df['price'].min(),df['price'].max(),10),\n",
        "    'advertising': np.linspace(df['advertising'].min(),df['advertising'].max(),10),\n",
        "    'pie_sale': regressor.predict(df_for_pred)\n",
        "})"
      ],
      "execution_count": 178,
      "outputs": [
        {
          "output_type": "execute_result",
          "data": {
            "text/html": [
              "<div>\n",
              "<style scoped>\n",
              "    .dataframe tbody tr th:only-of-type {\n",
              "        vertical-align: middle;\n",
              "    }\n",
              "\n",
              "    .dataframe tbody tr th {\n",
              "        vertical-align: top;\n",
              "    }\n",
              "\n",
              "    .dataframe thead th {\n",
              "        text-align: right;\n",
              "    }\n",
              "</style>\n",
              "<table border=\"1\" class=\"dataframe\">\n",
              "  <thead>\n",
              "    <tr style=\"text-align: right;\">\n",
              "      <th></th>\n",
              "      <th>price</th>\n",
              "      <th>advertising</th>\n",
              "      <th>pie_sale</th>\n",
              "    </tr>\n",
              "  </thead>\n",
              "  <tbody>\n",
              "    <tr>\n",
              "      <th>0</th>\n",
              "      <td>4.500000</td>\n",
              "      <td>2.7</td>\n",
              "      <td>392.584187</td>\n",
              "    </tr>\n",
              "    <tr>\n",
              "      <th>1</th>\n",
              "      <td>4.888889</td>\n",
              "      <td>2.9</td>\n",
              "      <td>397.538547</td>\n",
              "    </tr>\n",
              "    <tr>\n",
              "      <th>2</th>\n",
              "      <td>5.277778</td>\n",
              "      <td>3.1</td>\n",
              "      <td>402.492907</td>\n",
              "    </tr>\n",
              "    <tr>\n",
              "      <th>3</th>\n",
              "      <td>5.666667</td>\n",
              "      <td>3.3</td>\n",
              "      <td>407.447267</td>\n",
              "    </tr>\n",
              "    <tr>\n",
              "      <th>4</th>\n",
              "      <td>6.055556</td>\n",
              "      <td>3.5</td>\n",
              "      <td>412.401627</td>\n",
              "    </tr>\n",
              "    <tr>\n",
              "      <th>5</th>\n",
              "      <td>6.444444</td>\n",
              "      <td>3.7</td>\n",
              "      <td>417.355987</td>\n",
              "    </tr>\n",
              "    <tr>\n",
              "      <th>6</th>\n",
              "      <td>6.833333</td>\n",
              "      <td>3.9</td>\n",
              "      <td>422.310347</td>\n",
              "    </tr>\n",
              "    <tr>\n",
              "      <th>7</th>\n",
              "      <td>7.222222</td>\n",
              "      <td>4.1</td>\n",
              "      <td>427.264707</td>\n",
              "    </tr>\n",
              "    <tr>\n",
              "      <th>8</th>\n",
              "      <td>7.611111</td>\n",
              "      <td>4.3</td>\n",
              "      <td>432.219067</td>\n",
              "    </tr>\n",
              "    <tr>\n",
              "      <th>9</th>\n",
              "      <td>8.000000</td>\n",
              "      <td>4.5</td>\n",
              "      <td>437.173427</td>\n",
              "    </tr>\n",
              "  </tbody>\n",
              "</table>\n",
              "</div>"
            ],
            "text/plain": [
              "      price  advertising    pie_sale\n",
              "0  4.500000          2.7  392.584187\n",
              "1  4.888889          2.9  397.538547\n",
              "2  5.277778          3.1  402.492907\n",
              "3  5.666667          3.3  407.447267\n",
              "4  6.055556          3.5  412.401627\n",
              "5  6.444444          3.7  417.355987\n",
              "6  6.833333          3.9  422.310347\n",
              "7  7.222222          4.1  427.264707\n",
              "8  7.611111          4.3  432.219067\n",
              "9  8.000000          4.5  437.173427"
            ]
          },
          "metadata": {
            "tags": []
          },
          "execution_count": 178
        }
      ]
    },
    {
      "cell_type": "markdown",
      "metadata": {
        "id": "Xc5Waq4tnqw0"
      },
      "source": [
        "Maka pie dengan harga 4.5 dollar dan dengan biaya promosi 2.7 dollar diprediksi akan terjual dengan jumlah 392.58 buah pie. Dan seterusnya hingga index ke-9."
      ]
    }
  ]
}